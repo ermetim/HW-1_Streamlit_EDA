{
 "cells": [
  {
   "cell_type": "markdown",
   "metadata": {
    "id": "m9QWlN-lq0qw"
   },
   "source": [
    "# Практическая работа"
   ]
  },
  {
   "cell_type": "markdown",
   "metadata": {},
   "source": [
    "## Imports"
   ]
  },
  {
   "cell_type": "code",
   "execution_count": 1,
   "metadata": {
    "ExecuteTime": {
     "end_time": "2023-12-08T02:53:52.884050Z",
     "start_time": "2023-12-08T02:53:49.957073Z"
    }
   },
   "outputs": [],
   "source": [
    "import os\n",
    "import streamlit as st\n",
    "import pandas as pd\n",
    "import numpy as np\n",
    "# pd.set_option('display.float_format', '{:,.2f}'.format)\n",
    "pd.set_option('display.max_columns', None)\n",
    "# pd.set_option('display.max_rows', None)"
   ]
  },
  {
   "cell_type": "markdown",
   "metadata": {
    "id": "4Nb7eTxYWWUe"
   },
   "source": [
    "# Задача"
   ]
  },
  {
   "cell_type": "markdown",
   "metadata": {
    "id": "ug5TQChn6KiJ"
   },
   "source": [
    "Один из способов повысить эффективность взаимодействия банка с клиентами — отправлять предложение о новой услуге не всем клиентам, а только некоторым, которые выбираются по принципу наибольшей склонности к отклику на это предложение.\n",
    "\n",
    "Задача заключается в том, чтобы предложить алгоритм, который будет выдавать склонность клиента к положительному или отрицательному отклику на предложение банка. Предполагается, что, получив такие оценки для некоторого множества клиентов, банк обратится с предложением только к тем, от кого ожидается положительный отклик.\n"
   ]
  },
  {
   "cell_type": "markdown",
   "metadata": {
    "id": "5k52FwP156I6"
   },
   "source": [
    "Для решения этой задачи загрузите файлы из базы в Postgres.\n",
    "Эта БД хранит информацию о клиентах банка и их персональные данные, такие как пол, количество детей и другие.\n",
    "\n",
    "Описание таблиц с данными представлено ниже.\n"
   ]
  },
  {
   "cell_type": "markdown",
   "metadata": {
    "id": "3HYLpuwA6dAw"
   },
   "source": [
    "**D_work**\n",
    "\n",
    "Описание статусов относительно работы:\n",
    "- ID — идентификатор социального статуса клиента относительно работы;\n",
    "- COMMENT — расшифровка статуса.\n",
    "\n",
    "\n",
    "**D_pens**\n",
    "\n",
    "Описание статусов относительно пенсии:\n",
    "- ID — идентификатор социального статуса;\n",
    "- COMMENT — расшифровка статуса.\n",
    "\n",
    "\n",
    "**D_clients**\n",
    "\n",
    "Описание данных клиентов:\n",
    "- ID — идентификатор записи;\n",
    "- AGE\t— возраст клиента;\n",
    "- GENDER — пол клиента (1 — мужчина, 0 — женщина);\n",
    "- EDUCATION — образование;\n",
    "- MARITAL_STATUS — семейное положение;\n",
    "- CHILD_TOTAL\t— количество детей клиента;\n",
    "- DEPENDANTS — количество иждивенцев клиента;\n",
    "- SOCSTATUS_WORK_FL\t— социальный статус клиента относительно работы (1 — работает, 0 — не работает);\n",
    "- SOCSTATUS_PENS_FL\t— социальный статус клиента относительно пенсии (1 — пенсионер, 0 — не пенсионер);\n",
    "- REG_ADDRESS_PROVINCE — область регистрации клиента;\n",
    "- FACT_ADDRESS_PROVINCE — область фактического пребывания клиента;\n",
    "- POSTAL_ADDRESS_PROVINCE — почтовый адрес области;\n",
    "- FL_PRESENCE_FL — наличие в собственности квартиры (1 — есть, 0 — нет);\n",
    "- OWN_AUTO — количество автомобилей в собственности.\n",
    "\n",
    "\n",
    "**D_agreement**\n",
    "\n",
    "Таблица с зафиксированными откликами клиентов на предложения банка:\n",
    "- AGREEMENT_RK — уникальный идентификатор объекта в выборке;\n",
    "- ID_CLIENT — идентификатор клиента;\n",
    "- TARGET — целевая переменная: отклик на маркетинговую кампанию (1 — отклик был зарегистрирован, 0 — отклика не было).\n",
    "    \n",
    "    \n",
    "**D_job**\n",
    "\n",
    "Описание информации о работе клиентов:\n",
    "- GEN_INDUSTRY — отрасль работы клиента;\n",
    "- GEN_TITLE — должность;\n",
    "- JOB_DIR — направление деятельности внутри компании;\n",
    "- WORK_TIME — время работы на текущем месте (в месяцах);\n",
    "- ID_CLIENT — идентификатор клиента.\n",
    "\n",
    "\n",
    "**D_salary**\n",
    "\n",
    "Описание информации о заработной плате клиентов:\n",
    "- ID_CLIENT — идентификатор клиента;\n",
    "- FAMILY_INCOME — семейный доход (несколько категорий);\n",
    "- PERSONAL_INCOME — личный доход клиента (в рублях).\n",
    "\n",
    "\n",
    "**D_last_credit**\n",
    "\n",
    "Информация о последнем займе клиента:\n",
    "- ID_CLIENT — идентификатор клиента;\n",
    "- CREDIT — сумма последнего кредита клиента (в рублях);\n",
    "- TERM — срок кредита;\n",
    "- FST_PAYMENT — первоначальный взнос (в рублях).\n",
    "\n",
    "\n",
    "**D_loan**\n",
    "\n",
    "Информация о кредитной истории клиента:\n",
    "- ID_CLIENT — идентификатор клиента;\n",
    "- ID_LOAN — идентификатор кредита.\n",
    "\n",
    "**D_close_loan**\n",
    "\n",
    "Информация о статусах кредита (ссуд):\n",
    "- ID_LOAN — идентификатор кредита;\n",
    "- CLOSED_FL — текущий статус кредита (1 — закрыт, 0 — не закрыт)."
   ]
  },
  {
   "cell_type": "markdown",
   "metadata": {
    "id": "aSCbvJeMKegU"
   },
   "source": [
    "Ниже представлен минимальный список колонок, которые должны находиться в итоговом датасете после склейки и агрегации данных. По своему усмотрению вы можете добавить дополнительные к этим колонки."
   ]
  },
  {
   "cell_type": "markdown",
   "metadata": {
    "id": "xDZKZYCtmbwi"
   },
   "source": [
    "    - AGREEMENT_RK — уникальный идентификатор объекта в выборке;\n",
    "    - TARGET — целевая переменная: отклик на маркетинговую кампанию (1 — отклик был зарегистрирован, 0 — отклика не было);\n",
    "    - AGE — возраст клиента;\n",
    "    - SOCSTATUS_WORK_FL — социальный статус клиента относительно работы (1 — работает, 0 — не работает);\n",
    "    - SOCSTATUS_PENS_FL — социальный статус клиента относительно пенсии (1 — пенсионер, 0 — не пенсионер);\n",
    "    - GENDER — пол клиента (1 — мужчина, 0 — женщина);\n",
    "    - CHILD_TOTAL — количество детей клиента;\n",
    "    - DEPENDANTS — количество иждивенцев клиента;\n",
    "    - PERSONAL_INCOME — личный доход клиента (в рублях);\n",
    "    - LOAN_NUM_TOTAL — количество ссуд клиента;\n",
    "    - LOAN_NUM_CLOSED — количество погашенных ссуд клиента.\n"
   ]
  },
  {
   "cell_type": "markdown",
   "metadata": {
    "id": "EDpojLFeAw2Y"
   },
   "source": [
    "Будьте внимательны при сборке датасета: это реальные банковские данные, в которых могут наблюдаться дубли, некорректно заполненные значения или значения, противоречащие друг другу. Для получения качественной модели необходимо предварительно очистить датасет от такой информации."
   ]
  },
  {
   "cell_type": "markdown",
   "metadata": {
    "id": "GERgJvyYmQEZ"
   },
   "source": [
    "## Задание 1\n",
    "\n",
    "Соберите всю информацию о клиентах в одну таблицу, где одна строчка соответствует полной информации об одном клиенте."
   ]
  },
  {
   "cell_type": "code",
   "execution_count": 2,
   "metadata": {
    "ExecuteTime": {
     "end_time": "2023-12-08T02:53:53.180086Z",
     "start_time": "2023-12-08T02:53:52.884050Z"
    },
    "scrolled": true
   },
   "outputs": [],
   "source": [
    "data = dict()\n",
    "datasets_path = os.path.join(os.getcwd(), 'datasets')\n",
    "file_names = os.listdir(datasets_path)\n",
    "for file_name in file_names:\n",
    "    table_name = file_name.split('.')[0]\n",
    "    file_path = os.path.join(datasets_path, file_name)\n",
    "    data[table_name] = pd.read_csv(file_path)\n",
    "#     print('+'*100)\n",
    "#     print('Table name', table_name)\n",
    "#     print('-'*100)\n",
    "#     display(database[table_name].head())\n"
   ]
  },
  {
   "cell_type": "code",
   "execution_count": 3,
   "metadata": {
    "ExecuteTime": {
     "end_time": "2023-12-08T02:53:53.198785Z",
     "start_time": "2023-12-08T02:53:53.180086Z"
    }
   },
   "outputs": [
    {
     "data": {
      "text/plain": [
       "dict_keys(['D_clients', 'D_close_loan', 'D_job', 'D_last_credit', 'D_loan', 'D_pens', 'D_salary', 'D_target', 'D_work'])"
      ]
     },
     "execution_count": 3,
     "metadata": {},
     "output_type": "execute_result"
    }
   ],
   "source": [
    "data.keys()"
   ]
  },
  {
   "cell_type": "code",
   "execution_count": 4,
   "metadata": {
    "ExecuteTime": {
     "end_time": "2023-12-08T02:53:53.349098Z",
     "start_time": "2023-12-08T02:53:53.198785Z"
    }
   },
   "outputs": [
    {
     "data": {
      "text/html": [
       "<div>\n",
       "<style scoped>\n",
       "    .dataframe tbody tr th:only-of-type {\n",
       "        vertical-align: middle;\n",
       "    }\n",
       "\n",
       "    .dataframe tbody tr th {\n",
       "        vertical-align: top;\n",
       "    }\n",
       "\n",
       "    .dataframe thead th {\n",
       "        text-align: right;\n",
       "    }\n",
       "</style>\n",
       "<table border=\"1\" class=\"dataframe\">\n",
       "  <thead>\n",
       "    <tr style=\"text-align: right;\">\n",
       "      <th></th>\n",
       "      <th>duplicates</th>\n",
       "      <th>null_sum</th>\n",
       "      <th>len</th>\n",
       "    </tr>\n",
       "    <tr>\n",
       "      <th>table_name</th>\n",
       "      <th></th>\n",
       "      <th></th>\n",
       "      <th></th>\n",
       "    </tr>\n",
       "  </thead>\n",
       "  <tbody>\n",
       "    <tr>\n",
       "      <th>D_clients</th>\n",
       "      <td>0</td>\n",
       "      <td>0</td>\n",
       "      <td>16000</td>\n",
       "    </tr>\n",
       "    <tr>\n",
       "      <th>D_close_loan</th>\n",
       "      <td>0</td>\n",
       "      <td>0</td>\n",
       "      <td>21126</td>\n",
       "    </tr>\n",
       "    <tr>\n",
       "      <th>D_job</th>\n",
       "      <td>0</td>\n",
       "      <td>5469</td>\n",
       "      <td>15223</td>\n",
       "    </tr>\n",
       "    <tr>\n",
       "      <th>D_last_credit</th>\n",
       "      <td>0</td>\n",
       "      <td>0</td>\n",
       "      <td>15223</td>\n",
       "    </tr>\n",
       "    <tr>\n",
       "      <th>D_loan</th>\n",
       "      <td>0</td>\n",
       "      <td>0</td>\n",
       "      <td>21126</td>\n",
       "    </tr>\n",
       "    <tr>\n",
       "      <th>D_pens</th>\n",
       "      <td>0</td>\n",
       "      <td>0</td>\n",
       "      <td>2</td>\n",
       "    </tr>\n",
       "    <tr>\n",
       "      <th>D_salary</th>\n",
       "      <td>300</td>\n",
       "      <td>0</td>\n",
       "      <td>15523</td>\n",
       "    </tr>\n",
       "    <tr>\n",
       "      <th>D_target</th>\n",
       "      <td>0</td>\n",
       "      <td>0</td>\n",
       "      <td>15223</td>\n",
       "    </tr>\n",
       "    <tr>\n",
       "      <th>D_work</th>\n",
       "      <td>0</td>\n",
       "      <td>0</td>\n",
       "      <td>3</td>\n",
       "    </tr>\n",
       "  </tbody>\n",
       "</table>\n",
       "</div>"
      ],
      "text/plain": [
       "               duplicates  null_sum    len\n",
       "table_name                                \n",
       "D_clients               0         0  16000\n",
       "D_close_loan            0         0  21126\n",
       "D_job                   0      5469  15223\n",
       "D_last_credit           0         0  15223\n",
       "D_loan                  0         0  21126\n",
       "D_pens                  0         0      2\n",
       "D_salary              300         0  15523\n",
       "D_target                0         0  15223\n",
       "D_work                  0         0      3"
      ]
     },
     "execution_count": 4,
     "metadata": {},
     "output_type": "execute_result"
    }
   ],
   "source": [
    "information = {'table_name':[],\n",
    "               'duplicates':[],\n",
    "               'null_sum':[],\n",
    "               'len':[]\n",
    "              }\n",
    "for table in data.keys():\n",
    "    duplicates = data[table].duplicated().sum()\n",
    "    nulls = data[table].isna().sum().sum()\n",
    "    information['table_name'].append(table)\n",
    "    information['duplicates'].append(duplicates)\n",
    "    information['null_sum'].append(nulls)\n",
    "    information['len'].append(len(data[table]))\n",
    "\n",
    "pd.DataFrame(information).set_index('table_name')"
   ]
  },
  {
   "cell_type": "code",
   "execution_count": 5,
   "metadata": {
    "ExecuteTime": {
     "end_time": "2023-12-08T02:53:53.380060Z",
     "start_time": "2023-12-08T02:53:53.349098Z"
    }
   },
   "outputs": [
    {
     "data": {
      "text/plain": [
       "GEN_INDUSTRY    0.089798\n",
       "GEN_TITLE       0.089798\n",
       "JOB_DIR         0.089798\n",
       "WORK_TIME       0.089864\n",
       "ID_CLIENT       0.000000\n",
       "dtype: float64"
      ]
     },
     "execution_count": 5,
     "metadata": {},
     "output_type": "execute_result"
    }
   ],
   "source": [
    "data['D_job'].isna().sum()/len(data['D_job'])"
   ]
  },
  {
   "cell_type": "code",
   "execution_count": 6,
   "metadata": {
    "ExecuteTime": {
     "end_time": "2023-12-08T02:53:53.392008Z",
     "start_time": "2023-12-08T02:53:53.380060Z"
    }
   },
   "outputs": [
    {
     "data": {
      "text/plain": [
       "dict_keys(['D_clients', 'D_close_loan', 'D_job', 'D_last_credit', 'D_loan', 'D_pens', 'D_salary', 'D_target', 'D_work'])"
      ]
     },
     "execution_count": 6,
     "metadata": {},
     "output_type": "execute_result"
    }
   ],
   "source": [
    "data.keys()"
   ]
  },
  {
   "cell_type": "code",
   "execution_count": 7,
   "metadata": {
    "ExecuteTime": {
     "end_time": "2023-12-08T02:53:53.424181Z",
     "start_time": "2023-12-08T02:53:53.392590Z"
    }
   },
   "outputs": [
    {
     "data": {
      "text/html": [
       "<div>\n",
       "<style scoped>\n",
       "    .dataframe tbody tr th:only-of-type {\n",
       "        vertical-align: middle;\n",
       "    }\n",
       "\n",
       "    .dataframe tbody tr th {\n",
       "        vertical-align: top;\n",
       "    }\n",
       "\n",
       "    .dataframe thead th {\n",
       "        text-align: right;\n",
       "    }\n",
       "</style>\n",
       "<table border=\"1\" class=\"dataframe\">\n",
       "  <thead>\n",
       "    <tr style=\"text-align: right;\">\n",
       "      <th></th>\n",
       "      <th>ID_LOAN</th>\n",
       "      <th>ID_CLIENT</th>\n",
       "      <th>CLOSED_FL</th>\n",
       "    </tr>\n",
       "  </thead>\n",
       "  <tbody>\n",
       "    <tr>\n",
       "      <th>0</th>\n",
       "      <td>1753790658</td>\n",
       "      <td>106804370</td>\n",
       "      <td>1</td>\n",
       "    </tr>\n",
       "    <tr>\n",
       "      <th>1</th>\n",
       "      <td>1753790659</td>\n",
       "      <td>106804371</td>\n",
       "      <td>1</td>\n",
       "    </tr>\n",
       "    <tr>\n",
       "      <th>2</th>\n",
       "      <td>1753790660</td>\n",
       "      <td>106804372</td>\n",
       "      <td>1</td>\n",
       "    </tr>\n",
       "    <tr>\n",
       "      <th>3</th>\n",
       "      <td>1753790661</td>\n",
       "      <td>106804372</td>\n",
       "      <td>0</td>\n",
       "    </tr>\n",
       "    <tr>\n",
       "      <th>4</th>\n",
       "      <td>1753790662</td>\n",
       "      <td>106804373</td>\n",
       "      <td>1</td>\n",
       "    </tr>\n",
       "  </tbody>\n",
       "</table>\n",
       "</div>"
      ],
      "text/plain": [
       "      ID_LOAN  ID_CLIENT  CLOSED_FL\n",
       "0  1753790658  106804370          1\n",
       "1  1753790659  106804371          1\n",
       "2  1753790660  106804372          1\n",
       "3  1753790661  106804372          0\n",
       "4  1753790662  106804373          1"
      ]
     },
     "execution_count": 7,
     "metadata": {},
     "output_type": "execute_result"
    }
   ],
   "source": [
    "loans = data['D_loan'].merge(data['D_close_loan'], on = 'ID_LOAN', how='left')\n",
    "loans.head()"
   ]
  },
  {
   "cell_type": "code",
   "execution_count": 8,
   "metadata": {
    "ExecuteTime": {
     "end_time": "2023-12-08T02:53:53.449154Z",
     "start_time": "2023-12-08T02:53:53.424181Z"
    }
   },
   "outputs": [
    {
     "data": {
      "text/html": [
       "<div>\n",
       "<style scoped>\n",
       "    .dataframe tbody tr th:only-of-type {\n",
       "        vertical-align: middle;\n",
       "    }\n",
       "\n",
       "    .dataframe tbody tr th {\n",
       "        vertical-align: top;\n",
       "    }\n",
       "\n",
       "    .dataframe thead th {\n",
       "        text-align: right;\n",
       "    }\n",
       "</style>\n",
       "<table border=\"1\" class=\"dataframe\">\n",
       "  <thead>\n",
       "    <tr style=\"text-align: right;\">\n",
       "      <th></th>\n",
       "      <th>ID_CLIENT</th>\n",
       "      <th>LOAN_NUM_TOTAL</th>\n",
       "    </tr>\n",
       "  </thead>\n",
       "  <tbody>\n",
       "    <tr>\n",
       "      <th>0</th>\n",
       "      <td>106804370</td>\n",
       "      <td>1</td>\n",
       "    </tr>\n",
       "    <tr>\n",
       "      <th>1</th>\n",
       "      <td>106804371</td>\n",
       "      <td>1</td>\n",
       "    </tr>\n",
       "    <tr>\n",
       "      <th>2</th>\n",
       "      <td>106804372</td>\n",
       "      <td>2</td>\n",
       "    </tr>\n",
       "    <tr>\n",
       "      <th>3</th>\n",
       "      <td>106804373</td>\n",
       "      <td>1</td>\n",
       "    </tr>\n",
       "    <tr>\n",
       "      <th>4</th>\n",
       "      <td>106804374</td>\n",
       "      <td>2</td>\n",
       "    </tr>\n",
       "  </tbody>\n",
       "</table>\n",
       "</div>"
      ],
      "text/plain": [
       "   ID_CLIENT  LOAN_NUM_TOTAL\n",
       "0  106804370               1\n",
       "1  106804371               1\n",
       "2  106804372               2\n",
       "3  106804373               1\n",
       "4  106804374               2"
      ]
     },
     "execution_count": 8,
     "metadata": {},
     "output_type": "execute_result"
    }
   ],
   "source": [
    "loan_num_total = (loans\n",
    "                  .groupby(by='ID_CLIENT')['ID_LOAN']\n",
    "                  .count()\n",
    "                  .reset_index()\n",
    "                  .rename(columns={'ID_LOAN': 'LOAN_NUM_TOTAL'})\n",
    "                 )\n",
    "\n",
    "loan_num_total.head()"
   ]
  },
  {
   "cell_type": "code",
   "execution_count": 9,
   "metadata": {
    "ExecuteTime": {
     "end_time": "2023-12-08T02:53:53.475002Z",
     "start_time": "2023-12-08T02:53:53.449658Z"
    }
   },
   "outputs": [
    {
     "data": {
      "text/html": [
       "<div>\n",
       "<style scoped>\n",
       "    .dataframe tbody tr th:only-of-type {\n",
       "        vertical-align: middle;\n",
       "    }\n",
       "\n",
       "    .dataframe tbody tr th {\n",
       "        vertical-align: top;\n",
       "    }\n",
       "\n",
       "    .dataframe thead th {\n",
       "        text-align: right;\n",
       "    }\n",
       "</style>\n",
       "<table border=\"1\" class=\"dataframe\">\n",
       "  <thead>\n",
       "    <tr style=\"text-align: right;\">\n",
       "      <th></th>\n",
       "      <th>ID_CLIENT</th>\n",
       "      <th>LOAN_NUM_CLOSED</th>\n",
       "    </tr>\n",
       "  </thead>\n",
       "  <tbody>\n",
       "    <tr>\n",
       "      <th>0</th>\n",
       "      <td>106804370</td>\n",
       "      <td>1</td>\n",
       "    </tr>\n",
       "    <tr>\n",
       "      <th>1</th>\n",
       "      <td>106804371</td>\n",
       "      <td>1</td>\n",
       "    </tr>\n",
       "    <tr>\n",
       "      <th>2</th>\n",
       "      <td>106804372</td>\n",
       "      <td>1</td>\n",
       "    </tr>\n",
       "    <tr>\n",
       "      <th>3</th>\n",
       "      <td>106804373</td>\n",
       "      <td>1</td>\n",
       "    </tr>\n",
       "    <tr>\n",
       "      <th>4</th>\n",
       "      <td>106804374</td>\n",
       "      <td>1</td>\n",
       "    </tr>\n",
       "  </tbody>\n",
       "</table>\n",
       "</div>"
      ],
      "text/plain": [
       "   ID_CLIENT  LOAN_NUM_CLOSED\n",
       "0  106804370                1\n",
       "1  106804371                1\n",
       "2  106804372                1\n",
       "3  106804373                1\n",
       "4  106804374                1"
      ]
     },
     "execution_count": 9,
     "metadata": {},
     "output_type": "execute_result"
    }
   ],
   "source": [
    "loan_num_closed = (loans\n",
    "                   .groupby(by='ID_CLIENT')['CLOSED_FL']\n",
    "                   .sum()\n",
    "                   .reset_index()\n",
    "                   .rename(columns={'CLOSED_FL': 'LOAN_NUM_CLOSED'})\n",
    "                  )\n",
    "loan_num_closed.head()"
   ]
  },
  {
   "cell_type": "code",
   "execution_count": 10,
   "metadata": {
    "ExecuteTime": {
     "end_time": "2023-12-08T02:53:53.677341Z",
     "start_time": "2023-12-08T02:53:53.478498Z"
    }
   },
   "outputs": [
    {
     "data": {
      "text/html": [
       "<div>\n",
       "<style scoped>\n",
       "    .dataframe tbody tr th:only-of-type {\n",
       "        vertical-align: middle;\n",
       "    }\n",
       "\n",
       "    .dataframe tbody tr th {\n",
       "        vertical-align: top;\n",
       "    }\n",
       "\n",
       "    .dataframe thead th {\n",
       "        text-align: right;\n",
       "    }\n",
       "</style>\n",
       "<table border=\"1\" class=\"dataframe\">\n",
       "  <thead>\n",
       "    <tr style=\"text-align: right;\">\n",
       "      <th></th>\n",
       "      <th>ID_CLIENT</th>\n",
       "      <th>AGE</th>\n",
       "      <th>GENDER</th>\n",
       "      <th>EDUCATION</th>\n",
       "      <th>MARITAL_STATUS</th>\n",
       "      <th>CHILD_TOTAL</th>\n",
       "      <th>DEPENDANTS</th>\n",
       "      <th>SOCSTATUS_WORK_FL</th>\n",
       "      <th>SOCSTATUS_PENS_FL</th>\n",
       "      <th>REG_ADDRESS_PROVINCE</th>\n",
       "      <th>FACT_ADDRESS_PROVINCE</th>\n",
       "      <th>POSTAL_ADDRESS_PROVINCE</th>\n",
       "      <th>FL_PRESENCE_FL</th>\n",
       "      <th>OWN_AUTO</th>\n",
       "      <th>GEN_INDUSTRY</th>\n",
       "      <th>GEN_TITLE</th>\n",
       "      <th>JOB_DIR</th>\n",
       "      <th>WORK_TIME</th>\n",
       "      <th>CREDIT</th>\n",
       "      <th>TERM</th>\n",
       "      <th>FST_PAYMENT</th>\n",
       "      <th>FAMILY_INCOME</th>\n",
       "      <th>PERSONAL_INCOME</th>\n",
       "      <th>AGREEMENT_RK</th>\n",
       "      <th>TARGET</th>\n",
       "      <th>LOAN_NUM_TOTAL</th>\n",
       "      <th>LOAN_NUM_CLOSED</th>\n",
       "    </tr>\n",
       "  </thead>\n",
       "  <tbody>\n",
       "    <tr>\n",
       "      <th>0</th>\n",
       "      <td>106805103</td>\n",
       "      <td>42</td>\n",
       "      <td>1</td>\n",
       "      <td>Среднее</td>\n",
       "      <td>Не состоял в браке</td>\n",
       "      <td>1</td>\n",
       "      <td>0</td>\n",
       "      <td>1</td>\n",
       "      <td>0</td>\n",
       "      <td>Московская область</td>\n",
       "      <td>Московская область</td>\n",
       "      <td>Московская область</td>\n",
       "      <td>1</td>\n",
       "      <td>0</td>\n",
       "      <td>Другие сферы</td>\n",
       "      <td>Работник сферы услуг</td>\n",
       "      <td>Участие в основ. деятельности</td>\n",
       "      <td>3.0</td>\n",
       "      <td>5588.0</td>\n",
       "      <td>6.0</td>\n",
       "      <td>1000.0</td>\n",
       "      <td>от 20000 до 50000 руб.</td>\n",
       "      <td>25000.0</td>\n",
       "      <td>60099204.0</td>\n",
       "      <td>1.0</td>\n",
       "      <td>1.0</td>\n",
       "      <td>0.0</td>\n",
       "    </tr>\n",
       "    <tr>\n",
       "      <th>1</th>\n",
       "      <td>106809308</td>\n",
       "      <td>28</td>\n",
       "      <td>1</td>\n",
       "      <td>Среднее специальное</td>\n",
       "      <td>Состою в браке</td>\n",
       "      <td>1</td>\n",
       "      <td>1</td>\n",
       "      <td>1</td>\n",
       "      <td>0</td>\n",
       "      <td>Читинская область</td>\n",
       "      <td>Читинская область</td>\n",
       "      <td>Читинская область</td>\n",
       "      <td>0</td>\n",
       "      <td>0</td>\n",
       "      <td>Торговля</td>\n",
       "      <td>Специалист</td>\n",
       "      <td>Участие в основ. деятельности</td>\n",
       "      <td>5.0</td>\n",
       "      <td>19498.0</td>\n",
       "      <td>12.0</td>\n",
       "      <td>0.0</td>\n",
       "      <td>от 10000 до 20000 руб.</td>\n",
       "      <td>10000.0</td>\n",
       "      <td>62244665.0</td>\n",
       "      <td>0.0</td>\n",
       "      <td>1.0</td>\n",
       "      <td>0.0</td>\n",
       "    </tr>\n",
       "    <tr>\n",
       "      <th>2</th>\n",
       "      <td>106805867</td>\n",
       "      <td>64</td>\n",
       "      <td>0</td>\n",
       "      <td>Среднее специальное</td>\n",
       "      <td>Состою в браке</td>\n",
       "      <td>2</td>\n",
       "      <td>0</td>\n",
       "      <td>1</td>\n",
       "      <td>1</td>\n",
       "      <td>Иркутская область</td>\n",
       "      <td>Иркутская область</td>\n",
       "      <td>Иркутская область</td>\n",
       "      <td>0</td>\n",
       "      <td>1</td>\n",
       "      <td>Другие сферы</td>\n",
       "      <td>Руководитель высшего звена</td>\n",
       "      <td>Участие в основ. деятельности</td>\n",
       "      <td>360.0</td>\n",
       "      <td>15470.0</td>\n",
       "      <td>3.0</td>\n",
       "      <td>15000.0</td>\n",
       "      <td>от 20000 до 50000 руб.</td>\n",
       "      <td>30000.0</td>\n",
       "      <td>61050759.0</td>\n",
       "      <td>0.0</td>\n",
       "      <td>1.0</td>\n",
       "      <td>1.0</td>\n",
       "    </tr>\n",
       "    <tr>\n",
       "      <th>3</th>\n",
       "      <td>106808779</td>\n",
       "      <td>54</td>\n",
       "      <td>1</td>\n",
       "      <td>Среднее специальное</td>\n",
       "      <td>Состою в браке</td>\n",
       "      <td>0</td>\n",
       "      <td>0</td>\n",
       "      <td>1</td>\n",
       "      <td>0</td>\n",
       "      <td>Новосибирская область</td>\n",
       "      <td>Новосибирская область</td>\n",
       "      <td>Новосибирская область</td>\n",
       "      <td>1</td>\n",
       "      <td>1</td>\n",
       "      <td>Государственная служба</td>\n",
       "      <td>Специалист</td>\n",
       "      <td>Участие в основ. деятельности</td>\n",
       "      <td>3.0</td>\n",
       "      <td>13960.0</td>\n",
       "      <td>6.0</td>\n",
       "      <td>2500.0</td>\n",
       "      <td>от 20000 до 50000 руб.</td>\n",
       "      <td>25000.0</td>\n",
       "      <td>62079659.0</td>\n",
       "      <td>0.0</td>\n",
       "      <td>1.0</td>\n",
       "      <td>0.0</td>\n",
       "    </tr>\n",
       "    <tr>\n",
       "      <th>4</th>\n",
       "      <td>106814289</td>\n",
       "      <td>26</td>\n",
       "      <td>0</td>\n",
       "      <td>Среднее специальное</td>\n",
       "      <td>Состою в браке</td>\n",
       "      <td>1</td>\n",
       "      <td>1</td>\n",
       "      <td>1</td>\n",
       "      <td>0</td>\n",
       "      <td>Красноярский край</td>\n",
       "      <td>Красноярский край</td>\n",
       "      <td>Красноярский край</td>\n",
       "      <td>1</td>\n",
       "      <td>0</td>\n",
       "      <td>Другие сферы</td>\n",
       "      <td>Специалист</td>\n",
       "      <td>Участие в основ. деятельности</td>\n",
       "      <td>12.0</td>\n",
       "      <td>11890.0</td>\n",
       "      <td>6.0</td>\n",
       "      <td>8000.0</td>\n",
       "      <td>от 10000 до 20000 руб.</td>\n",
       "      <td>15000.0</td>\n",
       "      <td>66583553.0</td>\n",
       "      <td>0.0</td>\n",
       "      <td>2.0</td>\n",
       "      <td>2.0</td>\n",
       "    </tr>\n",
       "  </tbody>\n",
       "</table>\n",
       "</div>"
      ],
      "text/plain": [
       "   ID_CLIENT  AGE  GENDER            EDUCATION      MARITAL_STATUS  \\\n",
       "0  106805103   42       1              Среднее  Не состоял в браке   \n",
       "1  106809308   28       1  Среднее специальное      Состою в браке   \n",
       "2  106805867   64       0  Среднее специальное      Состою в браке   \n",
       "3  106808779   54       1  Среднее специальное      Состою в браке   \n",
       "4  106814289   26       0  Среднее специальное      Состою в браке   \n",
       "\n",
       "   CHILD_TOTAL  DEPENDANTS  SOCSTATUS_WORK_FL  SOCSTATUS_PENS_FL  \\\n",
       "0            1           0                  1                  0   \n",
       "1            1           1                  1                  0   \n",
       "2            2           0                  1                  1   \n",
       "3            0           0                  1                  0   \n",
       "4            1           1                  1                  0   \n",
       "\n",
       "    REG_ADDRESS_PROVINCE  FACT_ADDRESS_PROVINCE POSTAL_ADDRESS_PROVINCE  \\\n",
       "0     Московская область     Московская область      Московская область   \n",
       "1      Читинская область      Читинская область       Читинская область   \n",
       "2      Иркутская область      Иркутская область       Иркутская область   \n",
       "3  Новосибирская область  Новосибирская область   Новосибирская область   \n",
       "4      Красноярский край      Красноярский край       Красноярский край   \n",
       "\n",
       "   FL_PRESENCE_FL  OWN_AUTO            GEN_INDUSTRY  \\\n",
       "0               1         0            Другие сферы   \n",
       "1               0         0                Торговля   \n",
       "2               0         1            Другие сферы   \n",
       "3               1         1  Государственная служба   \n",
       "4               1         0            Другие сферы   \n",
       "\n",
       "                    GEN_TITLE                        JOB_DIR  WORK_TIME  \\\n",
       "0        Работник сферы услуг  Участие в основ. деятельности        3.0   \n",
       "1                  Специалист  Участие в основ. деятельности        5.0   \n",
       "2  Руководитель высшего звена  Участие в основ. деятельности      360.0   \n",
       "3                  Специалист  Участие в основ. деятельности        3.0   \n",
       "4                  Специалист  Участие в основ. деятельности       12.0   \n",
       "\n",
       "    CREDIT  TERM  FST_PAYMENT           FAMILY_INCOME  PERSONAL_INCOME  \\\n",
       "0   5588.0   6.0       1000.0  от 20000 до 50000 руб.          25000.0   \n",
       "1  19498.0  12.0          0.0  от 10000 до 20000 руб.          10000.0   \n",
       "2  15470.0   3.0      15000.0  от 20000 до 50000 руб.          30000.0   \n",
       "3  13960.0   6.0       2500.0  от 20000 до 50000 руб.          25000.0   \n",
       "4  11890.0   6.0       8000.0  от 10000 до 20000 руб.          15000.0   \n",
       "\n",
       "   AGREEMENT_RK  TARGET  LOAN_NUM_TOTAL  LOAN_NUM_CLOSED  \n",
       "0    60099204.0     1.0             1.0              0.0  \n",
       "1    62244665.0     0.0             1.0              0.0  \n",
       "2    61050759.0     0.0             1.0              1.0  \n",
       "3    62079659.0     0.0             1.0              0.0  \n",
       "4    66583553.0     0.0             2.0              2.0  "
      ]
     },
     "execution_count": 10,
     "metadata": {},
     "output_type": "execute_result"
    }
   ],
   "source": [
    "df = (data['D_clients'].rename(columns={'ID': 'ID_CLIENT'})\n",
    "      .merge(data['D_job'], on = 'ID_CLIENT', how='left')\n",
    "      .merge(data['D_last_credit'], on = 'ID_CLIENT', how='left')\n",
    "      .merge(data['D_salary'], on = 'ID_CLIENT', how='left')\n",
    "      .merge(data['D_target'], on = 'ID_CLIENT', how='left')\n",
    "      .merge(loan_num_total, on = 'ID_CLIENT', how='left')\n",
    "      .merge(loan_num_closed, on = 'ID_CLIENT', how='left')\n",
    "     )\n",
    "df.head()"
   ]
  },
  {
   "cell_type": "code",
   "execution_count": 11,
   "metadata": {
    "ExecuteTime": {
     "end_time": "2023-12-08T02:53:53.687633Z",
     "start_time": "2023-12-08T02:53:53.677341Z"
    }
   },
   "outputs": [],
   "source": [
    "columns_to_keep = ['AGREEMENT_RK',\n",
    "                   'TARGET',\n",
    "                   'AGE',\n",
    "                   'SOCSTATUS_WORK_FL',\n",
    "                   'SOCSTATUS_PENS_FL',\n",
    "                   'GENDER',\n",
    "                   'CHILD_TOTAL',\n",
    "                   'DEPENDANTS',\n",
    "                   'PERSONAL_INCOME',\n",
    "                   'LOAN_NUM_TOTAL',\n",
    "                   'LOAN_NUM_CLOSED',\n",
    "                  ]"
   ]
  },
  {
   "cell_type": "code",
   "execution_count": 12,
   "metadata": {
    "ExecuteTime": {
     "end_time": "2023-12-08T02:53:53.726991Z",
     "start_time": "2023-12-08T02:53:53.691260Z"
    }
   },
   "outputs": [
    {
     "data": {
      "text/html": [
       "<div>\n",
       "<style scoped>\n",
       "    .dataframe tbody tr th:only-of-type {\n",
       "        vertical-align: middle;\n",
       "    }\n",
       "\n",
       "    .dataframe tbody tr th {\n",
       "        vertical-align: top;\n",
       "    }\n",
       "\n",
       "    .dataframe thead th {\n",
       "        text-align: right;\n",
       "    }\n",
       "</style>\n",
       "<table border=\"1\" class=\"dataframe\">\n",
       "  <thead>\n",
       "    <tr style=\"text-align: right;\">\n",
       "      <th></th>\n",
       "      <th>AGREEMENT_RK</th>\n",
       "      <th>TARGET</th>\n",
       "      <th>AGE</th>\n",
       "      <th>SOCSTATUS_WORK_FL</th>\n",
       "      <th>SOCSTATUS_PENS_FL</th>\n",
       "      <th>GENDER</th>\n",
       "      <th>CHILD_TOTAL</th>\n",
       "      <th>DEPENDANTS</th>\n",
       "      <th>PERSONAL_INCOME</th>\n",
       "      <th>LOAN_NUM_TOTAL</th>\n",
       "      <th>LOAN_NUM_CLOSED</th>\n",
       "    </tr>\n",
       "  </thead>\n",
       "  <tbody>\n",
       "    <tr>\n",
       "      <th>0</th>\n",
       "      <td>60099204.0</td>\n",
       "      <td>1.0</td>\n",
       "      <td>42</td>\n",
       "      <td>1</td>\n",
       "      <td>0</td>\n",
       "      <td>1</td>\n",
       "      <td>1</td>\n",
       "      <td>0</td>\n",
       "      <td>25000.0</td>\n",
       "      <td>1.0</td>\n",
       "      <td>0.0</td>\n",
       "    </tr>\n",
       "    <tr>\n",
       "      <th>1</th>\n",
       "      <td>62244665.0</td>\n",
       "      <td>0.0</td>\n",
       "      <td>28</td>\n",
       "      <td>1</td>\n",
       "      <td>0</td>\n",
       "      <td>1</td>\n",
       "      <td>1</td>\n",
       "      <td>1</td>\n",
       "      <td>10000.0</td>\n",
       "      <td>1.0</td>\n",
       "      <td>0.0</td>\n",
       "    </tr>\n",
       "    <tr>\n",
       "      <th>2</th>\n",
       "      <td>61050759.0</td>\n",
       "      <td>0.0</td>\n",
       "      <td>64</td>\n",
       "      <td>1</td>\n",
       "      <td>1</td>\n",
       "      <td>0</td>\n",
       "      <td>2</td>\n",
       "      <td>0</td>\n",
       "      <td>30000.0</td>\n",
       "      <td>1.0</td>\n",
       "      <td>1.0</td>\n",
       "    </tr>\n",
       "    <tr>\n",
       "      <th>3</th>\n",
       "      <td>62079659.0</td>\n",
       "      <td>0.0</td>\n",
       "      <td>54</td>\n",
       "      <td>1</td>\n",
       "      <td>0</td>\n",
       "      <td>1</td>\n",
       "      <td>0</td>\n",
       "      <td>0</td>\n",
       "      <td>25000.0</td>\n",
       "      <td>1.0</td>\n",
       "      <td>0.0</td>\n",
       "    </tr>\n",
       "    <tr>\n",
       "      <th>4</th>\n",
       "      <td>66583553.0</td>\n",
       "      <td>0.0</td>\n",
       "      <td>26</td>\n",
       "      <td>1</td>\n",
       "      <td>0</td>\n",
       "      <td>0</td>\n",
       "      <td>1</td>\n",
       "      <td>1</td>\n",
       "      <td>15000.0</td>\n",
       "      <td>2.0</td>\n",
       "      <td>2.0</td>\n",
       "    </tr>\n",
       "  </tbody>\n",
       "</table>\n",
       "</div>"
      ],
      "text/plain": [
       "   AGREEMENT_RK  TARGET  AGE  SOCSTATUS_WORK_FL  SOCSTATUS_PENS_FL  GENDER  \\\n",
       "0    60099204.0     1.0   42                  1                  0       1   \n",
       "1    62244665.0     0.0   28                  1                  0       1   \n",
       "2    61050759.0     0.0   64                  1                  1       0   \n",
       "3    62079659.0     0.0   54                  1                  0       1   \n",
       "4    66583553.0     0.0   26                  1                  0       0   \n",
       "\n",
       "   CHILD_TOTAL  DEPENDANTS  PERSONAL_INCOME  LOAN_NUM_TOTAL  LOAN_NUM_CLOSED  \n",
       "0            1           0          25000.0             1.0              0.0  \n",
       "1            1           1          10000.0             1.0              0.0  \n",
       "2            2           0          30000.0             1.0              1.0  \n",
       "3            0           0          25000.0             1.0              0.0  \n",
       "4            1           1          15000.0             2.0              2.0  "
      ]
     },
     "execution_count": 12,
     "metadata": {},
     "output_type": "execute_result"
    }
   ],
   "source": [
    "df = df[columns_to_keep]\n",
    "df.head()"
   ]
  },
  {
   "cell_type": "code",
   "execution_count": 13,
   "metadata": {
    "ExecuteTime": {
     "end_time": "2023-12-08T02:53:53.880577Z",
     "start_time": "2023-12-08T02:53:53.726991Z"
    }
   },
   "outputs": [],
   "source": [
    "df.to_csv('datasets/joined_dataset.csv', index=False)"
   ]
  },
  {
   "cell_type": "markdown",
   "metadata": {
    "ExecuteTime": {
     "end_time": "2023-12-06T03:16:33.750791Z",
     "start_time": "2023-12-06T03:16:33.739454Z"
    }
   },
   "source": [
    "**В данной работе оставим минимально необходимые поля для ряботы.**\n",
    "\n",
    "Однако для исследования и построения предсказательной модели могут иметь влияние еще и следующие поля:\n",
    "\n",
    "**'REG_ADDRESS_PROVINCE', 'FACT_ADDRESS_PROVINCE', 'POSTAL_ADDRESS_PROVINCE'** - на основе данных полей можно проверять является ли регион фактического проживания таким же, что и регион регистрации или регион доставки корреспонденции. Также каждый регион может иметь свой коэффициент надежности.\n",
    "\n",
    "**'FAMILY_INCOME'** - данное поле также важно в модели предсказаний и может иметь значительное влияние, так как оно показывает напрямую доход семьи. На его основе можно также сделать новую фичу, которая будет проверять больше или меньше персональный доход относитель дохода семьи.\n",
    "\n",
    "**'WORK_TIME'** - время работы на последнем месте работы. Довольно важный признак, который показывает насколько клиент постоянный, если он долго работает на последнем месте работы.\n",
    "\n",
    "**'MARITAL_STATUS' и 'EDUCATION'** могут имет влияние на предсказания, но его нужно исследовать и тестировать на модели.  \n"
   ]
  },
  {
   "cell_type": "markdown",
   "metadata": {
    "id": "I7jn6IYXx6M9"
   },
   "source": [
    "## Задание 2\n",
    "\n",
    "При помощи инструмента Streamlit проведите разведочный анализ данных. В него может входить:\n",
    "\n",
    "* построение графиков распределений признаков\n",
    "* построение матрицы корреляций\n",
    "* построение графиков зависимостей целевой переменной и признаков\n",
    "* вычисление числовых характеристик распределения числовых столбцов (среднее, min, max, медиана и так далее)\n",
    "* любые другие ваши идеи приветствуются!\n",
    "\n",
    "[Пример Streamlit-приложения](https://rateyourflight.streamlit.app) с разведочным анализом, прогнозом модели и оценкой ее результатов."
   ]
  },
  {
   "cell_type": "code",
   "execution_count": null,
   "metadata": {},
   "outputs": [],
   "source": [
    "import streamlit as st\n",
    "import matplotlib.pyplot as plt\n",
    "import numpy as np\n",
    "\n",
    "arr = np.random.normal(1, 1, size=100)\n",
    "fig, ax = plt.subplots()\n",
    "ax.hist(arr, bins=20)\n",
    "\n",
    "st.pyplot(fig)"
   ]
  }
 ],
 "metadata": {
  "colab": {
   "provenance": []
  },
  "kernelspec": {
   "display_name": "Python 3 (ipykernel)",
   "language": "python",
   "name": "python3"
  },
  "language_info": {
   "codemirror_mode": {
    "name": "ipython",
    "version": 3
   },
   "file_extension": ".py",
   "mimetype": "text/x-python",
   "name": "python",
   "nbconvert_exporter": "python",
   "pygments_lexer": "ipython3",
   "version": "3.11.3"
  },
  "toc": {
   "base_numbering": 1,
   "nav_menu": {},
   "number_sections": true,
   "sideBar": true,
   "skip_h1_title": false,
   "title_cell": "Table of Contents",
   "title_sidebar": "Contents",
   "toc_cell": false,
   "toc_position": {
    "height": "calc(100% - 180px)",
    "left": "10px",
    "top": "150px",
    "width": "278.38px"
   },
   "toc_section_display": true,
   "toc_window_display": true
  }
 },
 "nbformat": 4,
 "nbformat_minor": 1
}

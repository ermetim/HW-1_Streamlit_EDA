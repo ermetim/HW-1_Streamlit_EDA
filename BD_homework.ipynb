{
 "cells": [
  {
   "cell_type": "markdown",
   "metadata": {
    "id": "m9QWlN-lq0qw"
   },
   "source": [
    "# Практическая работа"
   ]
  },
  {
   "cell_type": "markdown",
   "metadata": {},
   "source": [
    "## Imports"
   ]
  },
  {
   "cell_type": "code",
   "execution_count": 1,
   "metadata": {
    "ExecuteTime": {
     "end_time": "2023-12-12T03:27:02.335315Z",
     "start_time": "2023-12-12T03:27:00.611158Z"
    }
   },
   "outputs": [],
   "source": [
    "import os\n",
    "import streamlit as st\n",
    "import matplotlib.pyplot as plt\n",
    "import pandas as pd\n",
    "import numpy as np\n",
    "import seaborn as sns\n",
    "\n",
    "# pd.set_option('display.float_format', '{:,.2f}'.format)\n",
    "pd.set_option('display.max_columns', None)\n",
    "# pd.set_option('display.max_rows', None)"
   ]
  },
  {
   "cell_type": "markdown",
   "metadata": {
    "id": "4Nb7eTxYWWUe"
   },
   "source": [
    "# Задача"
   ]
  },
  {
   "cell_type": "markdown",
   "metadata": {
    "id": "ug5TQChn6KiJ"
   },
   "source": [
    "Один из способов повысить эффективность взаимодействия банка с клиентами — отправлять предложение о новой услуге не всем клиентам, а только некоторым, которые выбираются по принципу наибольшей склонности к отклику на это предложение.\n",
    "\n",
    "Задача заключается в том, чтобы предложить алгоритм, который будет выдавать склонность клиента к положительному или отрицательному отклику на предложение банка. Предполагается, что, получив такие оценки для некоторого множества клиентов, банк обратится с предложением только к тем, от кого ожидается положительный отклик.\n"
   ]
  },
  {
   "cell_type": "markdown",
   "metadata": {
    "id": "5k52FwP156I6"
   },
   "source": [
    "Для решения этой задачи загрузите файлы из базы в Postgres.\n",
    "Эта БД хранит информацию о клиентах банка и их персональные данные, такие как пол, количество детей и другие.\n",
    "\n",
    "Описание таблиц с данными представлено ниже.\n"
   ]
  },
  {
   "cell_type": "markdown",
   "metadata": {
    "id": "3HYLpuwA6dAw"
   },
   "source": [
    "**D_work**\n",
    "\n",
    "Описание статусов относительно работы:\n",
    "- ID — идентификатор социального статуса клиента относительно работы;\n",
    "- COMMENT — расшифровка статуса.\n",
    "\n",
    "\n",
    "**D_pens**\n",
    "\n",
    "Описание статусов относительно пенсии:\n",
    "- ID — идентификатор социального статуса;\n",
    "- COMMENT — расшифровка статуса.\n",
    "\n",
    "\n",
    "**D_clients**\n",
    "\n",
    "Описание данных клиентов:\n",
    "- ID — идентификатор записи;\n",
    "- AGE\t— возраст клиента;\n",
    "- GENDER — пол клиента (1 — мужчина, 0 — женщина);\n",
    "- EDUCATION — образование;\n",
    "- MARITAL_STATUS — семейное положение;\n",
    "- CHILD_TOTAL\t— количество детей клиента;\n",
    "- DEPENDANTS — количество иждивенцев клиента;\n",
    "- SOCSTATUS_WORK_FL\t— социальный статус клиента относительно работы (1 — работает, 0 — не работает);\n",
    "- SOCSTATUS_PENS_FL\t— социальный статус клиента относительно пенсии (1 — пенсионер, 0 — не пенсионер);\n",
    "- REG_ADDRESS_PROVINCE — область регистрации клиента;\n",
    "- FACT_ADDRESS_PROVINCE — область фактического пребывания клиента;\n",
    "- POSTAL_ADDRESS_PROVINCE — почтовый адрес области;\n",
    "- FL_PRESENCE_FL — наличие в собственности квартиры (1 — есть, 0 — нет);\n",
    "- OWN_AUTO — количество автомобилей в собственности.\n",
    "\n",
    "\n",
    "**D_agreement**\n",
    "\n",
    "Таблица с зафиксированными откликами клиентов на предложения банка:\n",
    "- AGREEMENT_RK — уникальный идентификатор объекта в выборке;\n",
    "- ID_CLIENT — идентификатор клиента;\n",
    "- TARGET — целевая переменная: отклик на маркетинговую кампанию (1 — отклик был зарегистрирован, 0 — отклика не было).\n",
    "    \n",
    "    \n",
    "**D_job**\n",
    "\n",
    "Описание информации о работе клиентов:\n",
    "- GEN_INDUSTRY — отрасль работы клиента;\n",
    "- GEN_TITLE — должность;\n",
    "- JOB_DIR — направление деятельности внутри компании;\n",
    "- WORK_TIME — время работы на текущем месте (в месяцах);\n",
    "- ID_CLIENT — идентификатор клиента.\n",
    "\n",
    "\n",
    "**D_salary**\n",
    "\n",
    "Описание информации о заработной плате клиентов:\n",
    "- ID_CLIENT — идентификатор клиента;\n",
    "- FAMILY_INCOME — семейный доход (несколько категорий);\n",
    "- PERSONAL_INCOME — личный доход клиента (в рублях).\n",
    "\n",
    "\n",
    "**D_last_credit**\n",
    "\n",
    "Информация о последнем займе клиента:\n",
    "- ID_CLIENT — идентификатор клиента;\n",
    "- CREDIT — сумма последнего кредита клиента (в рублях);\n",
    "- TERM — срок кредита;\n",
    "- FST_PAYMENT — первоначальный взнос (в рублях).\n",
    "\n",
    "\n",
    "**D_loan**\n",
    "\n",
    "Информация о кредитной истории клиента:\n",
    "- ID_CLIENT — идентификатор клиента;\n",
    "- ID_LOAN — идентификатор кредита.\n",
    "\n",
    "**D_close_loan**\n",
    "\n",
    "Информация о статусах кредита (ссуд):\n",
    "- ID_LOAN — идентификатор кредита;\n",
    "- CLOSED_FL — текущий статус кредита (1 — закрыт, 0 — не закрыт)."
   ]
  },
  {
   "cell_type": "markdown",
   "metadata": {
    "id": "aSCbvJeMKegU"
   },
   "source": [
    "Ниже представлен минимальный список колонок, которые должны находиться в итоговом датасете после склейки и агрегации данных. По своему усмотрению вы можете добавить дополнительные к этим колонки."
   ]
  },
  {
   "cell_type": "markdown",
   "metadata": {
    "id": "xDZKZYCtmbwi"
   },
   "source": [
    "    - AGREEMENT_RK — уникальный идентификатор объекта в выборке;\n",
    "    - TARGET — целевая переменная: отклик на маркетинговую кампанию (1 — отклик был зарегистрирован, 0 — отклика не было);\n",
    "    - AGE — возраст клиента;\n",
    "    - SOCSTATUS_WORK_FL — социальный статус клиента относительно работы (1 — работает, 0 — не работает);\n",
    "    - SOCSTATUS_PENS_FL — социальный статус клиента относительно пенсии (1 — пенсионер, 0 — не пенсионер);\n",
    "    - GENDER — пол клиента (1 — мужчина, 0 — женщина);\n",
    "    - CHILD_TOTAL — количество детей клиента;\n",
    "    - DEPENDANTS — количество иждивенцев клиента;\n",
    "    - PERSONAL_INCOME — личный доход клиента (в рублях);\n",
    "    - LOAN_NUM_TOTAL — количество ссуд клиента;\n",
    "    - LOAN_NUM_CLOSED — количество погашенных ссуд клиента.\n"
   ]
  },
  {
   "cell_type": "markdown",
   "metadata": {
    "id": "EDpojLFeAw2Y"
   },
   "source": [
    "Будьте внимательны при сборке датасета: это реальные банковские данные, в которых могут наблюдаться дубли, некорректно заполненные значения или значения, противоречащие друг другу. Для получения качественной модели необходимо предварительно очистить датасет от такой информации."
   ]
  },
  {
   "cell_type": "markdown",
   "metadata": {
    "id": "GERgJvyYmQEZ"
   },
   "source": [
    "## Задание 1\n",
    "\n",
    "Соберите всю информацию о клиентах в одну таблицу, где одна строчка соответствует полной информации об одном клиенте."
   ]
  },
  {
   "cell_type": "code",
   "execution_count": 2,
   "metadata": {
    "ExecuteTime": {
     "end_time": "2023-12-12T03:27:02.457872Z",
     "start_time": "2023-12-12T03:27:02.335315Z"
    },
    "scrolled": true
   },
   "outputs": [],
   "source": [
    "data = dict()\n",
    "datasets_path = os.path.join(os.getcwd(), 'datasets')\n",
    "file_names = os.listdir(datasets_path)\n",
    "for file_name in file_names:\n",
    "    table_name = file_name.split('.')[0]\n",
    "    file_path = os.path.join(datasets_path, file_name)\n",
    "    data[table_name] = pd.read_csv(file_path)\n",
    "#     print('+'*100)\n",
    "#     print('Table name', table_name)\n",
    "#     print('-'*100)\n",
    "#     display(database[table_name].head())\n"
   ]
  },
  {
   "cell_type": "code",
   "execution_count": 3,
   "metadata": {
    "ExecuteTime": {
     "end_time": "2023-12-12T03:27:02.465774Z",
     "start_time": "2023-12-12T03:27:02.457872Z"
    }
   },
   "outputs": [
    {
     "data": {
      "text/plain": [
       "dict_keys(['D_clients', 'D_close_loan', 'D_job', 'D_last_credit', 'D_loan', 'D_pens', 'D_salary', 'D_target', 'D_work', 'joined_dataset'])"
      ]
     },
     "execution_count": 3,
     "metadata": {},
     "output_type": "execute_result"
    }
   ],
   "source": [
    "data.keys()"
   ]
  },
  {
   "cell_type": "code",
   "execution_count": 4,
   "metadata": {
    "ExecuteTime": {
     "end_time": "2023-12-12T03:27:02.525795Z",
     "start_time": "2023-12-12T03:27:02.466267Z"
    }
   },
   "outputs": [
    {
     "data": {
      "text/html": [
       "<div>\n",
       "<style scoped>\n",
       "    .dataframe tbody tr th:only-of-type {\n",
       "        vertical-align: middle;\n",
       "    }\n",
       "\n",
       "    .dataframe tbody tr th {\n",
       "        vertical-align: top;\n",
       "    }\n",
       "\n",
       "    .dataframe thead th {\n",
       "        text-align: right;\n",
       "    }\n",
       "</style>\n",
       "<table border=\"1\" class=\"dataframe\">\n",
       "  <thead>\n",
       "    <tr style=\"text-align: right;\">\n",
       "      <th></th>\n",
       "      <th>duplicates</th>\n",
       "      <th>null_sum</th>\n",
       "      <th>len</th>\n",
       "    </tr>\n",
       "    <tr>\n",
       "      <th>table_name</th>\n",
       "      <th></th>\n",
       "      <th></th>\n",
       "      <th></th>\n",
       "    </tr>\n",
       "  </thead>\n",
       "  <tbody>\n",
       "    <tr>\n",
       "      <th>D_clients</th>\n",
       "      <td>0</td>\n",
       "      <td>0</td>\n",
       "      <td>16000</td>\n",
       "    </tr>\n",
       "    <tr>\n",
       "      <th>D_close_loan</th>\n",
       "      <td>0</td>\n",
       "      <td>0</td>\n",
       "      <td>21126</td>\n",
       "    </tr>\n",
       "    <tr>\n",
       "      <th>D_job</th>\n",
       "      <td>0</td>\n",
       "      <td>5469</td>\n",
       "      <td>15223</td>\n",
       "    </tr>\n",
       "    <tr>\n",
       "      <th>D_last_credit</th>\n",
       "      <td>0</td>\n",
       "      <td>0</td>\n",
       "      <td>15223</td>\n",
       "    </tr>\n",
       "    <tr>\n",
       "      <th>D_loan</th>\n",
       "      <td>0</td>\n",
       "      <td>0</td>\n",
       "      <td>21126</td>\n",
       "    </tr>\n",
       "    <tr>\n",
       "      <th>D_pens</th>\n",
       "      <td>0</td>\n",
       "      <td>0</td>\n",
       "      <td>2</td>\n",
       "    </tr>\n",
       "    <tr>\n",
       "      <th>D_salary</th>\n",
       "      <td>300</td>\n",
       "      <td>0</td>\n",
       "      <td>15523</td>\n",
       "    </tr>\n",
       "    <tr>\n",
       "      <th>D_target</th>\n",
       "      <td>0</td>\n",
       "      <td>0</td>\n",
       "      <td>15223</td>\n",
       "    </tr>\n",
       "    <tr>\n",
       "      <th>D_work</th>\n",
       "      <td>0</td>\n",
       "      <td>0</td>\n",
       "      <td>3</td>\n",
       "    </tr>\n",
       "    <tr>\n",
       "      <th>joined_dataset</th>\n",
       "      <td>406</td>\n",
       "      <td>3885</td>\n",
       "      <td>16000</td>\n",
       "    </tr>\n",
       "  </tbody>\n",
       "</table>\n",
       "</div>"
      ],
      "text/plain": [
       "                duplicates  null_sum    len\n",
       "table_name                                 \n",
       "D_clients                0         0  16000\n",
       "D_close_loan             0         0  21126\n",
       "D_job                    0      5469  15223\n",
       "D_last_credit            0         0  15223\n",
       "D_loan                   0         0  21126\n",
       "D_pens                   0         0      2\n",
       "D_salary               300         0  15523\n",
       "D_target                 0         0  15223\n",
       "D_work                   0         0      3\n",
       "joined_dataset         406      3885  16000"
      ]
     },
     "execution_count": 4,
     "metadata": {},
     "output_type": "execute_result"
    }
   ],
   "source": [
    "# СОберем информацию о дубликатах и пропусках в одну таблицу\n",
    "\n",
    "information = {'table_name':[],\n",
    "               'duplicates':[],\n",
    "               'null_sum':[],\n",
    "               'len':[]\n",
    "              }\n",
    "for table in data.keys():\n",
    "    duplicates = data[table].duplicated().sum()\n",
    "    nulls = data[table].isna().sum().sum()\n",
    "    information['table_name'].append(table)\n",
    "    information['duplicates'].append(duplicates)\n",
    "    information['null_sum'].append(nulls)\n",
    "    information['len'].append(len(data[table]))\n",
    "\n",
    "pd.DataFrame(information).set_index('table_name')"
   ]
  },
  {
   "cell_type": "code",
   "execution_count": 5,
   "metadata": {
    "ExecuteTime": {
     "end_time": "2023-12-12T03:27:02.542368Z",
     "start_time": "2023-12-12T03:27:02.525795Z"
    }
   },
   "outputs": [
    {
     "data": {
      "text/plain": [
       "GEN_INDUSTRY    0.089798\n",
       "GEN_TITLE       0.089798\n",
       "JOB_DIR         0.089798\n",
       "WORK_TIME       0.089864\n",
       "ID_CLIENT       0.000000\n",
       "dtype: float64"
      ]
     },
     "execution_count": 5,
     "metadata": {},
     "output_type": "execute_result"
    }
   ],
   "source": [
    "# ПРоверим долю пропусков по каждому столбцу таблицы D_job\n",
    "data['D_job'].isna().sum()/len(data['D_job'])"
   ]
  },
  {
   "cell_type": "code",
   "execution_count": 6,
   "metadata": {
    "ExecuteTime": {
     "end_time": "2023-12-12T03:27:02.550918Z",
     "start_time": "2023-12-12T03:27:02.542368Z"
    }
   },
   "outputs": [
    {
     "data": {
      "text/html": [
       "<div>\n",
       "<style scoped>\n",
       "    .dataframe tbody tr th:only-of-type {\n",
       "        vertical-align: middle;\n",
       "    }\n",
       "\n",
       "    .dataframe tbody tr th {\n",
       "        vertical-align: top;\n",
       "    }\n",
       "\n",
       "    .dataframe thead th {\n",
       "        text-align: right;\n",
       "    }\n",
       "</style>\n",
       "<table border=\"1\" class=\"dataframe\">\n",
       "  <thead>\n",
       "    <tr style=\"text-align: right;\">\n",
       "      <th></th>\n",
       "      <th>FAMILY_INCOME</th>\n",
       "      <th>PERSONAL_INCOME</th>\n",
       "      <th>ID_CLIENT</th>\n",
       "    </tr>\n",
       "  </thead>\n",
       "  <tbody>\n",
       "    <tr>\n",
       "      <th>0</th>\n",
       "      <td>от 20000 до 50000 руб.</td>\n",
       "      <td>20000.0</td>\n",
       "      <td>106809321</td>\n",
       "    </tr>\n",
       "    <tr>\n",
       "      <th>1</th>\n",
       "      <td>от 20000 до 50000 руб.</td>\n",
       "      <td>14000.0</td>\n",
       "      <td>106815561</td>\n",
       "    </tr>\n",
       "    <tr>\n",
       "      <th>2</th>\n",
       "      <td>от 10000 до 20000 руб.</td>\n",
       "      <td>15000.0</td>\n",
       "      <td>106811521</td>\n",
       "    </tr>\n",
       "    <tr>\n",
       "      <th>3</th>\n",
       "      <td>от 20000 до 50000 руб.</td>\n",
       "      <td>20000.0</td>\n",
       "      <td>106811252</td>\n",
       "    </tr>\n",
       "    <tr>\n",
       "      <th>4</th>\n",
       "      <td>от 20000 до 50000 руб.</td>\n",
       "      <td>25000.0</td>\n",
       "      <td>106808620</td>\n",
       "    </tr>\n",
       "  </tbody>\n",
       "</table>\n",
       "</div>"
      ],
      "text/plain": [
       "            FAMILY_INCOME  PERSONAL_INCOME  ID_CLIENT\n",
       "0  от 20000 до 50000 руб.          20000.0  106809321\n",
       "1  от 20000 до 50000 руб.          14000.0  106815561\n",
       "2  от 10000 до 20000 руб.          15000.0  106811521\n",
       "3  от 20000 до 50000 руб.          20000.0  106811252\n",
       "4  от 20000 до 50000 руб.          25000.0  106808620"
      ]
     },
     "execution_count": 6,
     "metadata": {},
     "output_type": "execute_result"
    }
   ],
   "source": [
    "# Посмотрим на таблицу с дубликатами\n",
    "data['D_salary'].head()"
   ]
  },
  {
   "cell_type": "code",
   "execution_count": 7,
   "metadata": {
    "ExecuteTime": {
     "end_time": "2023-12-12T03:27:02.561635Z",
     "start_time": "2023-12-12T03:27:02.551424Z"
    }
   },
   "outputs": [
    {
     "data": {
      "text/plain": [
       "300"
      ]
     },
     "execution_count": 7,
     "metadata": {},
     "output_type": "execute_result"
    }
   ],
   "source": [
    "# Посчистаем количество полных дубликатов строк\n",
    "data['D_salary'].duplicated().sum()"
   ]
  },
  {
   "cell_type": "code",
   "execution_count": 8,
   "metadata": {
    "ExecuteTime": {
     "end_time": "2023-12-12T03:27:02.574349Z",
     "start_time": "2023-12-12T03:27:02.561635Z"
    }
   },
   "outputs": [
    {
     "data": {
      "text/plain": [
       "0"
      ]
     },
     "execution_count": 8,
     "metadata": {},
     "output_type": "execute_result"
    }
   ],
   "source": [
    "# Удалим полные дубликаты, оставив только один\n",
    "data['D_salary'] = data['D_salary'].drop_duplicates(keep='first')\n",
    "data['D_salary'].duplicated().sum()"
   ]
  },
  {
   "cell_type": "code",
   "execution_count": 9,
   "metadata": {
    "ExecuteTime": {
     "end_time": "2023-12-12T03:27:02.580201Z",
     "start_time": "2023-12-12T03:27:02.574349Z"
    }
   },
   "outputs": [
    {
     "data": {
      "text/plain": [
       "dict_keys(['D_clients', 'D_close_loan', 'D_job', 'D_last_credit', 'D_loan', 'D_pens', 'D_salary', 'D_target', 'D_work', 'joined_dataset'])"
      ]
     },
     "execution_count": 9,
     "metadata": {},
     "output_type": "execute_result"
    }
   ],
   "source": [
    "data.keys()"
   ]
  },
  {
   "cell_type": "code",
   "execution_count": 10,
   "metadata": {
    "ExecuteTime": {
     "end_time": "2023-12-12T03:27:02.595501Z",
     "start_time": "2023-12-12T03:27:02.580701Z"
    }
   },
   "outputs": [
    {
     "data": {
      "text/html": [
       "<div>\n",
       "<style scoped>\n",
       "    .dataframe tbody tr th:only-of-type {\n",
       "        vertical-align: middle;\n",
       "    }\n",
       "\n",
       "    .dataframe tbody tr th {\n",
       "        vertical-align: top;\n",
       "    }\n",
       "\n",
       "    .dataframe thead th {\n",
       "        text-align: right;\n",
       "    }\n",
       "</style>\n",
       "<table border=\"1\" class=\"dataframe\">\n",
       "  <thead>\n",
       "    <tr style=\"text-align: right;\">\n",
       "      <th></th>\n",
       "      <th>ID_LOAN</th>\n",
       "      <th>ID_CLIENT</th>\n",
       "      <th>CLOSED_FL</th>\n",
       "    </tr>\n",
       "  </thead>\n",
       "  <tbody>\n",
       "    <tr>\n",
       "      <th>0</th>\n",
       "      <td>1753790658</td>\n",
       "      <td>106804370</td>\n",
       "      <td>1</td>\n",
       "    </tr>\n",
       "    <tr>\n",
       "      <th>1</th>\n",
       "      <td>1753790659</td>\n",
       "      <td>106804371</td>\n",
       "      <td>1</td>\n",
       "    </tr>\n",
       "    <tr>\n",
       "      <th>2</th>\n",
       "      <td>1753790660</td>\n",
       "      <td>106804372</td>\n",
       "      <td>1</td>\n",
       "    </tr>\n",
       "    <tr>\n",
       "      <th>3</th>\n",
       "      <td>1753790661</td>\n",
       "      <td>106804372</td>\n",
       "      <td>0</td>\n",
       "    </tr>\n",
       "    <tr>\n",
       "      <th>4</th>\n",
       "      <td>1753790662</td>\n",
       "      <td>106804373</td>\n",
       "      <td>1</td>\n",
       "    </tr>\n",
       "  </tbody>\n",
       "</table>\n",
       "</div>"
      ],
      "text/plain": [
       "      ID_LOAN  ID_CLIENT  CLOSED_FL\n",
       "0  1753790658  106804370          1\n",
       "1  1753790659  106804371          1\n",
       "2  1753790660  106804372          1\n",
       "3  1753790661  106804372          0\n",
       "4  1753790662  106804373          1"
      ]
     },
     "execution_count": 10,
     "metadata": {},
     "output_type": "execute_result"
    }
   ],
   "source": [
    "# Соединим таблицы D_loan и D_close_loan по ключу ID_LOAN\n",
    "loans = data['D_loan'].merge(data['D_close_loan'], on = 'ID_LOAN', how='left')\n",
    "loans.head()"
   ]
  },
  {
   "cell_type": "code",
   "execution_count": 11,
   "metadata": {
    "ExecuteTime": {
     "end_time": "2023-12-12T03:27:02.608163Z",
     "start_time": "2023-12-12T03:27:02.596227Z"
    }
   },
   "outputs": [
    {
     "data": {
      "text/html": [
       "<div>\n",
       "<style scoped>\n",
       "    .dataframe tbody tr th:only-of-type {\n",
       "        vertical-align: middle;\n",
       "    }\n",
       "\n",
       "    .dataframe tbody tr th {\n",
       "        vertical-align: top;\n",
       "    }\n",
       "\n",
       "    .dataframe thead th {\n",
       "        text-align: right;\n",
       "    }\n",
       "</style>\n",
       "<table border=\"1\" class=\"dataframe\">\n",
       "  <thead>\n",
       "    <tr style=\"text-align: right;\">\n",
       "      <th></th>\n",
       "      <th>ID_CLIENT</th>\n",
       "      <th>LOAN_NUM_TOTAL</th>\n",
       "    </tr>\n",
       "  </thead>\n",
       "  <tbody>\n",
       "    <tr>\n",
       "      <th>0</th>\n",
       "      <td>106804370</td>\n",
       "      <td>1</td>\n",
       "    </tr>\n",
       "    <tr>\n",
       "      <th>1</th>\n",
       "      <td>106804371</td>\n",
       "      <td>1</td>\n",
       "    </tr>\n",
       "    <tr>\n",
       "      <th>2</th>\n",
       "      <td>106804372</td>\n",
       "      <td>2</td>\n",
       "    </tr>\n",
       "    <tr>\n",
       "      <th>3</th>\n",
       "      <td>106804373</td>\n",
       "      <td>1</td>\n",
       "    </tr>\n",
       "    <tr>\n",
       "      <th>4</th>\n",
       "      <td>106804374</td>\n",
       "      <td>2</td>\n",
       "    </tr>\n",
       "  </tbody>\n",
       "</table>\n",
       "</div>"
      ],
      "text/plain": [
       "   ID_CLIENT  LOAN_NUM_TOTAL\n",
       "0  106804370               1\n",
       "1  106804371               1\n",
       "2  106804372               2\n",
       "3  106804373               1\n",
       "4  106804374               2"
      ]
     },
     "execution_count": 11,
     "metadata": {},
     "output_type": "execute_result"
    }
   ],
   "source": [
    "# Посчитаем количество кредитов по каждому клиенту\n",
    "loan_num_total = (loans\n",
    "                  .groupby(by='ID_CLIENT')['ID_LOAN']\n",
    "                  .count()\n",
    "                  .reset_index()\n",
    "                  .rename(columns={'ID_LOAN': 'LOAN_NUM_TOTAL'})\n",
    "                 )\n",
    "\n",
    "loan_num_total.head()"
   ]
  },
  {
   "cell_type": "code",
   "execution_count": 12,
   "metadata": {
    "ExecuteTime": {
     "end_time": "2023-12-12T03:27:02.619854Z",
     "start_time": "2023-12-12T03:27:02.608163Z"
    }
   },
   "outputs": [
    {
     "data": {
      "text/html": [
       "<div>\n",
       "<style scoped>\n",
       "    .dataframe tbody tr th:only-of-type {\n",
       "        vertical-align: middle;\n",
       "    }\n",
       "\n",
       "    .dataframe tbody tr th {\n",
       "        vertical-align: top;\n",
       "    }\n",
       "\n",
       "    .dataframe thead th {\n",
       "        text-align: right;\n",
       "    }\n",
       "</style>\n",
       "<table border=\"1\" class=\"dataframe\">\n",
       "  <thead>\n",
       "    <tr style=\"text-align: right;\">\n",
       "      <th></th>\n",
       "      <th>ID_CLIENT</th>\n",
       "      <th>LOAN_NUM_CLOSED</th>\n",
       "    </tr>\n",
       "  </thead>\n",
       "  <tbody>\n",
       "    <tr>\n",
       "      <th>0</th>\n",
       "      <td>106804370</td>\n",
       "      <td>1</td>\n",
       "    </tr>\n",
       "    <tr>\n",
       "      <th>1</th>\n",
       "      <td>106804371</td>\n",
       "      <td>1</td>\n",
       "    </tr>\n",
       "    <tr>\n",
       "      <th>2</th>\n",
       "      <td>106804372</td>\n",
       "      <td>1</td>\n",
       "    </tr>\n",
       "    <tr>\n",
       "      <th>3</th>\n",
       "      <td>106804373</td>\n",
       "      <td>1</td>\n",
       "    </tr>\n",
       "    <tr>\n",
       "      <th>4</th>\n",
       "      <td>106804374</td>\n",
       "      <td>1</td>\n",
       "    </tr>\n",
       "  </tbody>\n",
       "</table>\n",
       "</div>"
      ],
      "text/plain": [
       "   ID_CLIENT  LOAN_NUM_CLOSED\n",
       "0  106804370                1\n",
       "1  106804371                1\n",
       "2  106804372                1\n",
       "3  106804373                1\n",
       "4  106804374                1"
      ]
     },
     "execution_count": 12,
     "metadata": {},
     "output_type": "execute_result"
    }
   ],
   "source": [
    "# Посчитаем количество закрытых кредитов по каждому клиенту\n",
    "loan_num_closed = (loans\n",
    "                   .groupby(by='ID_CLIENT')['CLOSED_FL']\n",
    "                   .sum()\n",
    "                   .reset_index()\n",
    "                   .rename(columns={'CLOSED_FL': 'LOAN_NUM_CLOSED'})\n",
    "                  )\n",
    "loan_num_closed.head()"
   ]
  },
  {
   "cell_type": "code",
   "execution_count": 13,
   "metadata": {
    "ExecuteTime": {
     "end_time": "2023-12-12T03:27:02.690301Z",
     "start_time": "2023-12-12T03:27:02.620540Z"
    }
   },
   "outputs": [
    {
     "data": {
      "text/html": [
       "<div>\n",
       "<style scoped>\n",
       "    .dataframe tbody tr th:only-of-type {\n",
       "        vertical-align: middle;\n",
       "    }\n",
       "\n",
       "    .dataframe tbody tr th {\n",
       "        vertical-align: top;\n",
       "    }\n",
       "\n",
       "    .dataframe thead th {\n",
       "        text-align: right;\n",
       "    }\n",
       "</style>\n",
       "<table border=\"1\" class=\"dataframe\">\n",
       "  <thead>\n",
       "    <tr style=\"text-align: right;\">\n",
       "      <th></th>\n",
       "      <th>ID_CLIENT</th>\n",
       "      <th>AGE</th>\n",
       "      <th>GENDER</th>\n",
       "      <th>EDUCATION</th>\n",
       "      <th>MARITAL_STATUS</th>\n",
       "      <th>CHILD_TOTAL</th>\n",
       "      <th>DEPENDANTS</th>\n",
       "      <th>SOCSTATUS_WORK_FL</th>\n",
       "      <th>SOCSTATUS_PENS_FL</th>\n",
       "      <th>REG_ADDRESS_PROVINCE</th>\n",
       "      <th>FACT_ADDRESS_PROVINCE</th>\n",
       "      <th>POSTAL_ADDRESS_PROVINCE</th>\n",
       "      <th>FL_PRESENCE_FL</th>\n",
       "      <th>OWN_AUTO</th>\n",
       "      <th>GEN_INDUSTRY</th>\n",
       "      <th>GEN_TITLE</th>\n",
       "      <th>JOB_DIR</th>\n",
       "      <th>WORK_TIME</th>\n",
       "      <th>CREDIT</th>\n",
       "      <th>TERM</th>\n",
       "      <th>FST_PAYMENT</th>\n",
       "      <th>FAMILY_INCOME</th>\n",
       "      <th>PERSONAL_INCOME</th>\n",
       "      <th>AGREEMENT_RK</th>\n",
       "      <th>TARGET</th>\n",
       "      <th>LOAN_NUM_TOTAL</th>\n",
       "      <th>LOAN_NUM_CLOSED</th>\n",
       "    </tr>\n",
       "  </thead>\n",
       "  <tbody>\n",
       "    <tr>\n",
       "      <th>0</th>\n",
       "      <td>106805103</td>\n",
       "      <td>42</td>\n",
       "      <td>1</td>\n",
       "      <td>Среднее</td>\n",
       "      <td>Не состоял в браке</td>\n",
       "      <td>1</td>\n",
       "      <td>0</td>\n",
       "      <td>1</td>\n",
       "      <td>0</td>\n",
       "      <td>Московская область</td>\n",
       "      <td>Московская область</td>\n",
       "      <td>Московская область</td>\n",
       "      <td>1</td>\n",
       "      <td>0</td>\n",
       "      <td>Другие сферы</td>\n",
       "      <td>Работник сферы услуг</td>\n",
       "      <td>Участие в основ. деятельности</td>\n",
       "      <td>3.0</td>\n",
       "      <td>5588.0</td>\n",
       "      <td>6.0</td>\n",
       "      <td>1000.0</td>\n",
       "      <td>от 20000 до 50000 руб.</td>\n",
       "      <td>25000.0</td>\n",
       "      <td>60099204.0</td>\n",
       "      <td>1.0</td>\n",
       "      <td>1.0</td>\n",
       "      <td>0.0</td>\n",
       "    </tr>\n",
       "    <tr>\n",
       "      <th>1</th>\n",
       "      <td>106809308</td>\n",
       "      <td>28</td>\n",
       "      <td>1</td>\n",
       "      <td>Среднее специальное</td>\n",
       "      <td>Состою в браке</td>\n",
       "      <td>1</td>\n",
       "      <td>1</td>\n",
       "      <td>1</td>\n",
       "      <td>0</td>\n",
       "      <td>Читинская область</td>\n",
       "      <td>Читинская область</td>\n",
       "      <td>Читинская область</td>\n",
       "      <td>0</td>\n",
       "      <td>0</td>\n",
       "      <td>Торговля</td>\n",
       "      <td>Специалист</td>\n",
       "      <td>Участие в основ. деятельности</td>\n",
       "      <td>5.0</td>\n",
       "      <td>19498.0</td>\n",
       "      <td>12.0</td>\n",
       "      <td>0.0</td>\n",
       "      <td>от 10000 до 20000 руб.</td>\n",
       "      <td>10000.0</td>\n",
       "      <td>62244665.0</td>\n",
       "      <td>0.0</td>\n",
       "      <td>1.0</td>\n",
       "      <td>0.0</td>\n",
       "    </tr>\n",
       "    <tr>\n",
       "      <th>2</th>\n",
       "      <td>106805867</td>\n",
       "      <td>64</td>\n",
       "      <td>0</td>\n",
       "      <td>Среднее специальное</td>\n",
       "      <td>Состою в браке</td>\n",
       "      <td>2</td>\n",
       "      <td>0</td>\n",
       "      <td>1</td>\n",
       "      <td>1</td>\n",
       "      <td>Иркутская область</td>\n",
       "      <td>Иркутская область</td>\n",
       "      <td>Иркутская область</td>\n",
       "      <td>0</td>\n",
       "      <td>1</td>\n",
       "      <td>Другие сферы</td>\n",
       "      <td>Руководитель высшего звена</td>\n",
       "      <td>Участие в основ. деятельности</td>\n",
       "      <td>360.0</td>\n",
       "      <td>15470.0</td>\n",
       "      <td>3.0</td>\n",
       "      <td>15000.0</td>\n",
       "      <td>от 20000 до 50000 руб.</td>\n",
       "      <td>30000.0</td>\n",
       "      <td>61050759.0</td>\n",
       "      <td>0.0</td>\n",
       "      <td>1.0</td>\n",
       "      <td>1.0</td>\n",
       "    </tr>\n",
       "    <tr>\n",
       "      <th>3</th>\n",
       "      <td>106808779</td>\n",
       "      <td>54</td>\n",
       "      <td>1</td>\n",
       "      <td>Среднее специальное</td>\n",
       "      <td>Состою в браке</td>\n",
       "      <td>0</td>\n",
       "      <td>0</td>\n",
       "      <td>1</td>\n",
       "      <td>0</td>\n",
       "      <td>Новосибирская область</td>\n",
       "      <td>Новосибирская область</td>\n",
       "      <td>Новосибирская область</td>\n",
       "      <td>1</td>\n",
       "      <td>1</td>\n",
       "      <td>Государственная служба</td>\n",
       "      <td>Специалист</td>\n",
       "      <td>Участие в основ. деятельности</td>\n",
       "      <td>3.0</td>\n",
       "      <td>13960.0</td>\n",
       "      <td>6.0</td>\n",
       "      <td>2500.0</td>\n",
       "      <td>от 20000 до 50000 руб.</td>\n",
       "      <td>25000.0</td>\n",
       "      <td>62079659.0</td>\n",
       "      <td>0.0</td>\n",
       "      <td>1.0</td>\n",
       "      <td>0.0</td>\n",
       "    </tr>\n",
       "    <tr>\n",
       "      <th>4</th>\n",
       "      <td>106814289</td>\n",
       "      <td>26</td>\n",
       "      <td>0</td>\n",
       "      <td>Среднее специальное</td>\n",
       "      <td>Состою в браке</td>\n",
       "      <td>1</td>\n",
       "      <td>1</td>\n",
       "      <td>1</td>\n",
       "      <td>0</td>\n",
       "      <td>Красноярский край</td>\n",
       "      <td>Красноярский край</td>\n",
       "      <td>Красноярский край</td>\n",
       "      <td>1</td>\n",
       "      <td>0</td>\n",
       "      <td>Другие сферы</td>\n",
       "      <td>Специалист</td>\n",
       "      <td>Участие в основ. деятельности</td>\n",
       "      <td>12.0</td>\n",
       "      <td>11890.0</td>\n",
       "      <td>6.0</td>\n",
       "      <td>8000.0</td>\n",
       "      <td>от 10000 до 20000 руб.</td>\n",
       "      <td>15000.0</td>\n",
       "      <td>66583553.0</td>\n",
       "      <td>0.0</td>\n",
       "      <td>2.0</td>\n",
       "      <td>2.0</td>\n",
       "    </tr>\n",
       "  </tbody>\n",
       "</table>\n",
       "</div>"
      ],
      "text/plain": [
       "   ID_CLIENT  AGE  GENDER            EDUCATION      MARITAL_STATUS  \\\n",
       "0  106805103   42       1              Среднее  Не состоял в браке   \n",
       "1  106809308   28       1  Среднее специальное      Состою в браке   \n",
       "2  106805867   64       0  Среднее специальное      Состою в браке   \n",
       "3  106808779   54       1  Среднее специальное      Состою в браке   \n",
       "4  106814289   26       0  Среднее специальное      Состою в браке   \n",
       "\n",
       "   CHILD_TOTAL  DEPENDANTS  SOCSTATUS_WORK_FL  SOCSTATUS_PENS_FL  \\\n",
       "0            1           0                  1                  0   \n",
       "1            1           1                  1                  0   \n",
       "2            2           0                  1                  1   \n",
       "3            0           0                  1                  0   \n",
       "4            1           1                  1                  0   \n",
       "\n",
       "    REG_ADDRESS_PROVINCE  FACT_ADDRESS_PROVINCE POSTAL_ADDRESS_PROVINCE  \\\n",
       "0     Московская область     Московская область      Московская область   \n",
       "1      Читинская область      Читинская область       Читинская область   \n",
       "2      Иркутская область      Иркутская область       Иркутская область   \n",
       "3  Новосибирская область  Новосибирская область   Новосибирская область   \n",
       "4      Красноярский край      Красноярский край       Красноярский край   \n",
       "\n",
       "   FL_PRESENCE_FL  OWN_AUTO            GEN_INDUSTRY  \\\n",
       "0               1         0            Другие сферы   \n",
       "1               0         0                Торговля   \n",
       "2               0         1            Другие сферы   \n",
       "3               1         1  Государственная служба   \n",
       "4               1         0            Другие сферы   \n",
       "\n",
       "                    GEN_TITLE                        JOB_DIR  WORK_TIME  \\\n",
       "0        Работник сферы услуг  Участие в основ. деятельности        3.0   \n",
       "1                  Специалист  Участие в основ. деятельности        5.0   \n",
       "2  Руководитель высшего звена  Участие в основ. деятельности      360.0   \n",
       "3                  Специалист  Участие в основ. деятельности        3.0   \n",
       "4                  Специалист  Участие в основ. деятельности       12.0   \n",
       "\n",
       "    CREDIT  TERM  FST_PAYMENT           FAMILY_INCOME  PERSONAL_INCOME  \\\n",
       "0   5588.0   6.0       1000.0  от 20000 до 50000 руб.          25000.0   \n",
       "1  19498.0  12.0          0.0  от 10000 до 20000 руб.          10000.0   \n",
       "2  15470.0   3.0      15000.0  от 20000 до 50000 руб.          30000.0   \n",
       "3  13960.0   6.0       2500.0  от 20000 до 50000 руб.          25000.0   \n",
       "4  11890.0   6.0       8000.0  от 10000 до 20000 руб.          15000.0   \n",
       "\n",
       "   AGREEMENT_RK  TARGET  LOAN_NUM_TOTAL  LOAN_NUM_CLOSED  \n",
       "0    60099204.0     1.0             1.0              0.0  \n",
       "1    62244665.0     0.0             1.0              0.0  \n",
       "2    61050759.0     0.0             1.0              1.0  \n",
       "3    62079659.0     0.0             1.0              0.0  \n",
       "4    66583553.0     0.0             2.0              2.0  "
      ]
     },
     "execution_count": 13,
     "metadata": {},
     "output_type": "execute_result"
    }
   ],
   "source": [
    "# Соберем все таблицы в одну\n",
    "df = (data['D_clients'].rename(columns={'ID': 'ID_CLIENT'})\n",
    "      .merge(data['D_job'], on = 'ID_CLIENT', how='left')\n",
    "      .merge(data['D_last_credit'], on = 'ID_CLIENT', how='left')\n",
    "      .merge(data['D_salary'], on = 'ID_CLIENT', how='left')\n",
    "      .merge(data['D_target'], on = 'ID_CLIENT', how='left')\n",
    "      .merge(loan_num_total, on = 'ID_CLIENT', how='left')\n",
    "      .merge(loan_num_closed, on = 'ID_CLIENT', how='left')\n",
    "     )\n",
    "df.head()"
   ]
  },
  {
   "cell_type": "code",
   "execution_count": 14,
   "metadata": {
    "ExecuteTime": {
     "end_time": "2023-12-12T03:27:02.696081Z",
     "start_time": "2023-12-12T03:27:02.690301Z"
    }
   },
   "outputs": [],
   "source": [
    "# Выделим столбцы, которые планируем оставить\n",
    "columns_to_keep = ['AGREEMENT_RK',\n",
    "                   'TARGET',\n",
    "                   'AGE',\n",
    "                   'SOCSTATUS_WORK_FL',\n",
    "                   'SOCSTATUS_PENS_FL',\n",
    "                   'GENDER',\n",
    "                   'CHILD_TOTAL',\n",
    "                   'DEPENDANTS',\n",
    "                   'PERSONAL_INCOME',\n",
    "                   'LOAN_NUM_TOTAL',\n",
    "                   'LOAN_NUM_CLOSED',\n",
    "                  ]"
   ]
  },
  {
   "cell_type": "code",
   "execution_count": 15,
   "metadata": {
    "ExecuteTime": {
     "end_time": "2023-12-12T03:27:02.716952Z",
     "start_time": "2023-12-12T03:27:02.696591Z"
    }
   },
   "outputs": [
    {
     "data": {
      "text/html": [
       "<div>\n",
       "<style scoped>\n",
       "    .dataframe tbody tr th:only-of-type {\n",
       "        vertical-align: middle;\n",
       "    }\n",
       "\n",
       "    .dataframe tbody tr th {\n",
       "        vertical-align: top;\n",
       "    }\n",
       "\n",
       "    .dataframe thead th {\n",
       "        text-align: right;\n",
       "    }\n",
       "</style>\n",
       "<table border=\"1\" class=\"dataframe\">\n",
       "  <thead>\n",
       "    <tr style=\"text-align: right;\">\n",
       "      <th></th>\n",
       "      <th>AGREEMENT_RK</th>\n",
       "      <th>TARGET</th>\n",
       "      <th>AGE</th>\n",
       "      <th>SOCSTATUS_WORK_FL</th>\n",
       "      <th>SOCSTATUS_PENS_FL</th>\n",
       "      <th>GENDER</th>\n",
       "      <th>CHILD_TOTAL</th>\n",
       "      <th>DEPENDANTS</th>\n",
       "      <th>PERSONAL_INCOME</th>\n",
       "      <th>LOAN_NUM_TOTAL</th>\n",
       "      <th>LOAN_NUM_CLOSED</th>\n",
       "    </tr>\n",
       "  </thead>\n",
       "  <tbody>\n",
       "    <tr>\n",
       "      <th>0</th>\n",
       "      <td>60099204.0</td>\n",
       "      <td>1.0</td>\n",
       "      <td>42</td>\n",
       "      <td>1</td>\n",
       "      <td>0</td>\n",
       "      <td>1</td>\n",
       "      <td>1</td>\n",
       "      <td>0</td>\n",
       "      <td>25000.0</td>\n",
       "      <td>1.0</td>\n",
       "      <td>0.0</td>\n",
       "    </tr>\n",
       "    <tr>\n",
       "      <th>1</th>\n",
       "      <td>62244665.0</td>\n",
       "      <td>0.0</td>\n",
       "      <td>28</td>\n",
       "      <td>1</td>\n",
       "      <td>0</td>\n",
       "      <td>1</td>\n",
       "      <td>1</td>\n",
       "      <td>1</td>\n",
       "      <td>10000.0</td>\n",
       "      <td>1.0</td>\n",
       "      <td>0.0</td>\n",
       "    </tr>\n",
       "    <tr>\n",
       "      <th>2</th>\n",
       "      <td>61050759.0</td>\n",
       "      <td>0.0</td>\n",
       "      <td>64</td>\n",
       "      <td>1</td>\n",
       "      <td>1</td>\n",
       "      <td>0</td>\n",
       "      <td>2</td>\n",
       "      <td>0</td>\n",
       "      <td>30000.0</td>\n",
       "      <td>1.0</td>\n",
       "      <td>1.0</td>\n",
       "    </tr>\n",
       "    <tr>\n",
       "      <th>3</th>\n",
       "      <td>62079659.0</td>\n",
       "      <td>0.0</td>\n",
       "      <td>54</td>\n",
       "      <td>1</td>\n",
       "      <td>0</td>\n",
       "      <td>1</td>\n",
       "      <td>0</td>\n",
       "      <td>0</td>\n",
       "      <td>25000.0</td>\n",
       "      <td>1.0</td>\n",
       "      <td>0.0</td>\n",
       "    </tr>\n",
       "    <tr>\n",
       "      <th>4</th>\n",
       "      <td>66583553.0</td>\n",
       "      <td>0.0</td>\n",
       "      <td>26</td>\n",
       "      <td>1</td>\n",
       "      <td>0</td>\n",
       "      <td>0</td>\n",
       "      <td>1</td>\n",
       "      <td>1</td>\n",
       "      <td>15000.0</td>\n",
       "      <td>2.0</td>\n",
       "      <td>2.0</td>\n",
       "    </tr>\n",
       "  </tbody>\n",
       "</table>\n",
       "</div>"
      ],
      "text/plain": [
       "   AGREEMENT_RK  TARGET  AGE  SOCSTATUS_WORK_FL  SOCSTATUS_PENS_FL  GENDER  \\\n",
       "0    60099204.0     1.0   42                  1                  0       1   \n",
       "1    62244665.0     0.0   28                  1                  0       1   \n",
       "2    61050759.0     0.0   64                  1                  1       0   \n",
       "3    62079659.0     0.0   54                  1                  0       1   \n",
       "4    66583553.0     0.0   26                  1                  0       0   \n",
       "\n",
       "   CHILD_TOTAL  DEPENDANTS  PERSONAL_INCOME  LOAN_NUM_TOTAL  LOAN_NUM_CLOSED  \n",
       "0            1           0          25000.0             1.0              0.0  \n",
       "1            1           1          10000.0             1.0              0.0  \n",
       "2            2           0          30000.0             1.0              1.0  \n",
       "3            0           0          25000.0             1.0              0.0  \n",
       "4            1           1          15000.0             2.0              2.0  "
      ]
     },
     "execution_count": 15,
     "metadata": {},
     "output_type": "execute_result"
    }
   ],
   "source": [
    "df = df[columns_to_keep]\n",
    "df.head()"
   ]
  },
  {
   "cell_type": "code",
   "execution_count": 16,
   "metadata": {
    "ExecuteTime": {
     "end_time": "2023-12-12T03:27:02.730707Z",
     "start_time": "2023-12-12T03:27:02.716952Z"
    }
   },
   "outputs": [
    {
     "data": {
      "text/html": [
       "<div>\n",
       "<style scoped>\n",
       "    .dataframe tbody tr th:only-of-type {\n",
       "        vertical-align: middle;\n",
       "    }\n",
       "\n",
       "    .dataframe tbody tr th {\n",
       "        vertical-align: top;\n",
       "    }\n",
       "\n",
       "    .dataframe thead th {\n",
       "        text-align: right;\n",
       "    }\n",
       "</style>\n",
       "<table border=\"1\" class=\"dataframe\">\n",
       "  <thead>\n",
       "    <tr style=\"text-align: right;\">\n",
       "      <th></th>\n",
       "      <th>AGREEMENT_RK</th>\n",
       "      <th>TARGET</th>\n",
       "      <th>AGE</th>\n",
       "      <th>SOCSTATUS_WORK_FL</th>\n",
       "      <th>SOCSTATUS_PENS_FL</th>\n",
       "      <th>GENDER</th>\n",
       "      <th>CHILD_TOTAL</th>\n",
       "      <th>DEPENDANTS</th>\n",
       "      <th>PERSONAL_INCOME</th>\n",
       "      <th>LOAN_NUM_TOTAL</th>\n",
       "      <th>LOAN_NUM_CLOSED</th>\n",
       "    </tr>\n",
       "  </thead>\n",
       "  <tbody>\n",
       "    <tr>\n",
       "      <th>0</th>\n",
       "      <td>60099204.0</td>\n",
       "      <td>1.0</td>\n",
       "      <td>42</td>\n",
       "      <td>1</td>\n",
       "      <td>0</td>\n",
       "      <td>1</td>\n",
       "      <td>1</td>\n",
       "      <td>0</td>\n",
       "      <td>25000.0</td>\n",
       "      <td>1.0</td>\n",
       "      <td>0.0</td>\n",
       "    </tr>\n",
       "    <tr>\n",
       "      <th>1</th>\n",
       "      <td>62244665.0</td>\n",
       "      <td>0.0</td>\n",
       "      <td>28</td>\n",
       "      <td>1</td>\n",
       "      <td>0</td>\n",
       "      <td>1</td>\n",
       "      <td>1</td>\n",
       "      <td>1</td>\n",
       "      <td>10000.0</td>\n",
       "      <td>1.0</td>\n",
       "      <td>0.0</td>\n",
       "    </tr>\n",
       "    <tr>\n",
       "      <th>2</th>\n",
       "      <td>61050759.0</td>\n",
       "      <td>0.0</td>\n",
       "      <td>64</td>\n",
       "      <td>1</td>\n",
       "      <td>1</td>\n",
       "      <td>0</td>\n",
       "      <td>2</td>\n",
       "      <td>0</td>\n",
       "      <td>30000.0</td>\n",
       "      <td>1.0</td>\n",
       "      <td>1.0</td>\n",
       "    </tr>\n",
       "    <tr>\n",
       "      <th>3</th>\n",
       "      <td>62079659.0</td>\n",
       "      <td>0.0</td>\n",
       "      <td>54</td>\n",
       "      <td>1</td>\n",
       "      <td>0</td>\n",
       "      <td>1</td>\n",
       "      <td>0</td>\n",
       "      <td>0</td>\n",
       "      <td>25000.0</td>\n",
       "      <td>1.0</td>\n",
       "      <td>0.0</td>\n",
       "    </tr>\n",
       "    <tr>\n",
       "      <th>4</th>\n",
       "      <td>66583553.0</td>\n",
       "      <td>0.0</td>\n",
       "      <td>26</td>\n",
       "      <td>1</td>\n",
       "      <td>0</td>\n",
       "      <td>0</td>\n",
       "      <td>1</td>\n",
       "      <td>1</td>\n",
       "      <td>15000.0</td>\n",
       "      <td>2.0</td>\n",
       "      <td>2.0</td>\n",
       "    </tr>\n",
       "  </tbody>\n",
       "</table>\n",
       "</div>"
      ],
      "text/plain": [
       "   AGREEMENT_RK  TARGET  AGE  SOCSTATUS_WORK_FL  SOCSTATUS_PENS_FL  GENDER  \\\n",
       "0    60099204.0     1.0   42                  1                  0       1   \n",
       "1    62244665.0     0.0   28                  1                  0       1   \n",
       "2    61050759.0     0.0   64                  1                  1       0   \n",
       "3    62079659.0     0.0   54                  1                  0       1   \n",
       "4    66583553.0     0.0   26                  1                  0       0   \n",
       "\n",
       "   CHILD_TOTAL  DEPENDANTS  PERSONAL_INCOME  LOAN_NUM_TOTAL  LOAN_NUM_CLOSED  \n",
       "0            1           0          25000.0             1.0              0.0  \n",
       "1            1           1          10000.0             1.0              0.0  \n",
       "2            2           0          30000.0             1.0              1.0  \n",
       "3            0           0          25000.0             1.0              0.0  \n",
       "4            1           1          15000.0             2.0              2.0  "
      ]
     },
     "execution_count": 16,
     "metadata": {},
     "output_type": "execute_result"
    }
   ],
   "source": [
    "df.head()"
   ]
  },
  {
   "cell_type": "code",
   "execution_count": 17,
   "metadata": {
    "ExecuteTime": {
     "end_time": "2023-12-12T03:27:02.800296Z",
     "start_time": "2023-12-12T03:27:02.730707Z"
    }
   },
   "outputs": [],
   "source": [
    "# Сохраним итоговую таблицу в файл\n",
    "df.to_csv('datasets/joined_dataset.csv', index=False)"
   ]
  },
  {
   "cell_type": "markdown",
   "metadata": {
    "ExecuteTime": {
     "end_time": "2023-12-06T03:16:33.750791Z",
     "start_time": "2023-12-06T03:16:33.739454Z"
    }
   },
   "source": [
    "**В данной работе оставим минимально необходимые поля для ряботы.**\n",
    "\n",
    "Однако для исследования и построения предсказательной модели могут иметь влияние еще и следующие поля:\n",
    "\n",
    "**'REG_ADDRESS_PROVINCE', 'FACT_ADDRESS_PROVINCE', 'POSTAL_ADDRESS_PROVINCE'** - на основе данных полей можно проверять является ли регион фактического проживания таким же, что и регион регистрации или регион доставки корреспонденции. Также каждый регион может иметь свой коэффициент надежности.\n",
    "\n",
    "**'FAMILY_INCOME'** - данное поле также важно в модели предсказаний и может иметь значительное влияние, так как оно показывает напрямую доход семьи. На его основе можно также сделать новую фичу, которая будет проверять больше или меньше персональный доход относитель дохода семьи.\n",
    "\n",
    "**'WORK_TIME'** - время работы на последнем месте работы. Довольно важный признак, который показывает насколько клиент постоянный, если он долго работает на последнем месте работы.\n",
    "\n",
    "**'MARITAL_STATUS' и 'EDUCATION'** могут имет влияние на предсказания, но его нужно исследовать и тестировать на модели.  \n"
   ]
  },
  {
   "cell_type": "markdown",
   "metadata": {
    "id": "I7jn6IYXx6M9"
   },
   "source": [
    "## Задание 2\n",
    "\n",
    "При помощи инструмента Streamlit проведите разведочный анализ данных. В него может входить:\n",
    "\n",
    "* построение графиков распределений признаков\n",
    "* построение матрицы корреляций\n",
    "* построение графиков зависимостей целевой переменной и признаков\n",
    "* вычисление числовых характеристик распределения числовых столбцов (среднее, min, max, медиана и так далее)\n",
    "* любые другие ваши идеи приветствуются!\n",
    "\n",
    "[Пример Streamlit-приложения](https://rateyourflight.streamlit.app) с разведочным анализом, прогнозом модели и оценкой ее результатов."
   ]
  },
  {
   "cell_type": "markdown",
   "metadata": {},
   "source": [
    "### Построение графиков распределений признаков"
   ]
  },
  {
   "cell_type": "code",
   "execution_count": 18,
   "metadata": {
    "ExecuteTime": {
     "end_time": "2023-12-12T03:27:03.235061Z",
     "start_time": "2023-12-12T03:27:02.800296Z"
    }
   },
   "outputs": [
    {
     "name": "stderr",
     "output_type": "stream",
     "text": [
      "2023-12-12 06:27:03.218 \n",
      "  \u001b[33m\u001b[1mWarning:\u001b[0m to view this Streamlit app on a browser, run it with the following\n",
      "  command:\n",
      "\n",
      "    streamlit run C:\\Users\\t.ermeshev\\AppData\\Local\\anaconda3\\Lib\\site-packages\\ipykernel_launcher.py [ARGUMENTS]\n"
     ]
    },
    {
     "data": {
      "text/plain": [
       "DeltaGenerator()"
      ]
     },
     "execution_count": 18,
     "metadata": {},
     "output_type": "execute_result"
    }
   ],
   "source": [
    "# заголовок приложения\n",
    "st.title('Домашнее задание по прикладному Python')\n",
    "\n",
    "# df = pd.read_csv('datasets/joined_dataset.csv')\n",
    "\n",
    "# построение графиков распределений признаков\n",
    "\n",
    "st.header(\"1. Построим графики распределения признаков\")"
   ]
  },
  {
   "cell_type": "code",
   "execution_count": 19,
   "metadata": {
    "ExecuteTime": {
     "end_time": "2023-12-12T03:27:03.241717Z",
     "start_time": "2023-12-12T03:27:03.235061Z"
    }
   },
   "outputs": [],
   "source": [
    "# Сделаем копию для корреляции признаков\n",
    "df_corr = df.copy()"
   ]
  },
  {
   "cell_type": "code",
   "execution_count": 20,
   "metadata": {
    "ExecuteTime": {
     "end_time": "2023-12-12T03:27:03.295256Z",
     "start_time": "2023-12-12T03:27:03.243512Z"
    }
   },
   "outputs": [
    {
     "data": {
      "text/plain": [
       "Отклика не было    14188\n",
       "Отклик был          1812\n",
       "Name: TARGET, dtype: int64"
      ]
     },
     "execution_count": 20,
     "metadata": {},
     "output_type": "execute_result"
    }
   ],
   "source": [
    "# Приведем категориальные признаки от чисел к словам\n",
    "df['GENDER'] = df['GENDER'].apply(lambda x: 'Мужчина' if x == 1 else 'Женщина')\n",
    "df['GENDER'].value_counts()\n",
    "\n",
    "df['SOCSTATUS_WORK_FL'] = df['SOCSTATUS_WORK_FL'].apply(lambda x: 'Работает' if x == 1 else 'Не работает')\n",
    "df['SOCSTATUS_WORK_FL'].value_counts()\n",
    "\n",
    "df['SOCSTATUS_PENS_FL'] = df['SOCSTATUS_PENS_FL'].apply(lambda x: 'Пенсионер' if x == 1 else 'Не пенсионер')\n",
    "df['SOCSTATUS_PENS_FL'].value_counts()\n",
    "\n",
    "df['TARGET'] = df['TARGET'].apply(lambda x: 'Отклик был' if x == 1 else 'Отклика не было')\n",
    "df['TARGET'].value_counts()"
   ]
  },
  {
   "cell_type": "code",
   "execution_count": 21,
   "metadata": {
    "ExecuteTime": {
     "end_time": "2023-12-12T03:27:03.308420Z",
     "start_time": "2023-12-12T03:27:03.295256Z"
    }
   },
   "outputs": [
    {
     "data": {
      "text/html": [
       "<div>\n",
       "<style scoped>\n",
       "    .dataframe tbody tr th:only-of-type {\n",
       "        vertical-align: middle;\n",
       "    }\n",
       "\n",
       "    .dataframe tbody tr th {\n",
       "        vertical-align: top;\n",
       "    }\n",
       "\n",
       "    .dataframe thead th {\n",
       "        text-align: right;\n",
       "    }\n",
       "</style>\n",
       "<table border=\"1\" class=\"dataframe\">\n",
       "  <thead>\n",
       "    <tr style=\"text-align: right;\">\n",
       "      <th></th>\n",
       "      <th>AGREEMENT_RK</th>\n",
       "      <th>TARGET</th>\n",
       "      <th>AGE</th>\n",
       "      <th>SOCSTATUS_WORK_FL</th>\n",
       "      <th>SOCSTATUS_PENS_FL</th>\n",
       "      <th>GENDER</th>\n",
       "      <th>CHILD_TOTAL</th>\n",
       "      <th>DEPENDANTS</th>\n",
       "      <th>PERSONAL_INCOME</th>\n",
       "      <th>LOAN_NUM_TOTAL</th>\n",
       "      <th>LOAN_NUM_CLOSED</th>\n",
       "    </tr>\n",
       "  </thead>\n",
       "  <tbody>\n",
       "    <tr>\n",
       "      <th>0</th>\n",
       "      <td>60099204.0</td>\n",
       "      <td>Отклик был</td>\n",
       "      <td>42</td>\n",
       "      <td>Работает</td>\n",
       "      <td>Не пенсионер</td>\n",
       "      <td>Мужчина</td>\n",
       "      <td>1</td>\n",
       "      <td>0</td>\n",
       "      <td>25000.0</td>\n",
       "      <td>1.0</td>\n",
       "      <td>0.0</td>\n",
       "    </tr>\n",
       "    <tr>\n",
       "      <th>1</th>\n",
       "      <td>62244665.0</td>\n",
       "      <td>Отклика не было</td>\n",
       "      <td>28</td>\n",
       "      <td>Работает</td>\n",
       "      <td>Не пенсионер</td>\n",
       "      <td>Мужчина</td>\n",
       "      <td>1</td>\n",
       "      <td>1</td>\n",
       "      <td>10000.0</td>\n",
       "      <td>1.0</td>\n",
       "      <td>0.0</td>\n",
       "    </tr>\n",
       "    <tr>\n",
       "      <th>2</th>\n",
       "      <td>61050759.0</td>\n",
       "      <td>Отклика не было</td>\n",
       "      <td>64</td>\n",
       "      <td>Работает</td>\n",
       "      <td>Пенсионер</td>\n",
       "      <td>Женщина</td>\n",
       "      <td>2</td>\n",
       "      <td>0</td>\n",
       "      <td>30000.0</td>\n",
       "      <td>1.0</td>\n",
       "      <td>1.0</td>\n",
       "    </tr>\n",
       "    <tr>\n",
       "      <th>3</th>\n",
       "      <td>62079659.0</td>\n",
       "      <td>Отклика не было</td>\n",
       "      <td>54</td>\n",
       "      <td>Работает</td>\n",
       "      <td>Не пенсионер</td>\n",
       "      <td>Мужчина</td>\n",
       "      <td>0</td>\n",
       "      <td>0</td>\n",
       "      <td>25000.0</td>\n",
       "      <td>1.0</td>\n",
       "      <td>0.0</td>\n",
       "    </tr>\n",
       "    <tr>\n",
       "      <th>4</th>\n",
       "      <td>66583553.0</td>\n",
       "      <td>Отклика не было</td>\n",
       "      <td>26</td>\n",
       "      <td>Работает</td>\n",
       "      <td>Не пенсионер</td>\n",
       "      <td>Женщина</td>\n",
       "      <td>1</td>\n",
       "      <td>1</td>\n",
       "      <td>15000.0</td>\n",
       "      <td>2.0</td>\n",
       "      <td>2.0</td>\n",
       "    </tr>\n",
       "  </tbody>\n",
       "</table>\n",
       "</div>"
      ],
      "text/plain": [
       "   AGREEMENT_RK           TARGET  AGE SOCSTATUS_WORK_FL SOCSTATUS_PENS_FL  \\\n",
       "0    60099204.0       Отклик был   42          Работает      Не пенсионер   \n",
       "1    62244665.0  Отклика не было   28          Работает      Не пенсионер   \n",
       "2    61050759.0  Отклика не было   64          Работает         Пенсионер   \n",
       "3    62079659.0  Отклика не было   54          Работает      Не пенсионер   \n",
       "4    66583553.0  Отклика не было   26          Работает      Не пенсионер   \n",
       "\n",
       "    GENDER  CHILD_TOTAL  DEPENDANTS  PERSONAL_INCOME  LOAN_NUM_TOTAL  \\\n",
       "0  Мужчина            1           0          25000.0             1.0   \n",
       "1  Мужчина            1           1          10000.0             1.0   \n",
       "2  Женщина            2           0          30000.0             1.0   \n",
       "3  Мужчина            0           0          25000.0             1.0   \n",
       "4  Женщина            1           1          15000.0             2.0   \n",
       "\n",
       "   LOAN_NUM_CLOSED  \n",
       "0              0.0  \n",
       "1              0.0  \n",
       "2              1.0  \n",
       "3              0.0  \n",
       "4              2.0  "
      ]
     },
     "execution_count": 21,
     "metadata": {},
     "output_type": "execute_result"
    }
   ],
   "source": [
    "df.head()"
   ]
  },
  {
   "cell_type": "code",
   "execution_count": 22,
   "metadata": {
    "ExecuteTime": {
     "end_time": "2023-12-12T03:27:03.315247Z",
     "start_time": "2023-12-12T03:27:03.308420Z"
    }
   },
   "outputs": [
    {
     "data": {
      "text/plain": [
       "['TARGET',\n",
       " 'AGE',\n",
       " 'SOCSTATUS_WORK_FL',\n",
       " 'SOCSTATUS_PENS_FL',\n",
       " 'GENDER',\n",
       " 'CHILD_TOTAL',\n",
       " 'DEPENDANTS',\n",
       " 'PERSONAL_INCOME',\n",
       " 'LOAN_NUM_TOTAL',\n",
       " 'LOAN_NUM_CLOSED']"
      ]
     },
     "execution_count": 22,
     "metadata": {},
     "output_type": "execute_result"
    }
   ],
   "source": [
    "columns = list(df.columns)\n",
    "columns.remove('AGREEMENT_RK')\n",
    "columns"
   ]
  },
  {
   "cell_type": "code",
   "execution_count": 23,
   "metadata": {
    "ExecuteTime": {
     "end_time": "2023-12-12T03:27:03.322545Z",
     "start_time": "2023-12-12T03:27:03.315247Z"
    }
   },
   "outputs": [],
   "source": [
    "# Соберем словарь с описанием столбцов, чтобы использовать его в дальнейшем\n",
    "col_dict = {'AGREEMENT_RK' : 'Уникальный идентификатор объекта в выборке',\n",
    "            'TARGET' : 'Целевая переменная: отклик на маркетинговую кампанию',\n",
    "            'AGE' : 'Возраст клиента',\n",
    "            'SOCSTATUS_WORK_FL' : 'Социальный статус клиента относительно работы',\n",
    "            'SOCSTATUS_PENS_FL' : 'Социальный статус клиента относительно пенсии',\n",
    "            'GENDER' : 'Пол клиента',\n",
    "            'CHILD_TOTAL' : 'Количество детей клиента',\n",
    "            'DEPENDANTS' : 'Количество иждивенцев клиента',\n",
    "            'PERSONAL_INCOME' : 'Личный доход клиента (в рублях)',\n",
    "            'LOAN_NUM_TOTAL' : 'Количество ссуд клиента',\n",
    "            'LOAN_NUM_CLOSED' : 'Количество погашенных ссуд клиента'\n",
    "           }"
   ]
  },
  {
   "cell_type": "code",
   "execution_count": 24,
   "metadata": {
    "ExecuteTime": {
     "end_time": "2023-12-12T03:27:03.547092Z",
     "start_time": "2023-12-12T03:27:03.322545Z"
    }
   },
   "outputs": [
    {
     "data": {
      "image/png": "[encoded data removed]",
      "text/plain": [
       "<Figure size 640x480 with 1 Axes>"
      ]
     },
     "metadata": {},
     "output_type": "display_data"
    }
   ],
   "source": [
    "# Построим график распределения по возрасту клиента\n",
    "fig, ax = plt.subplots()\n",
    "plt.title('График распределения по параметру\\n Возраст клиента')\n",
    "ax.hist(df['AGE'], bins=50)\n",
    "\n",
    "ax.set_xlabel('Возраст клиента')\n",
    "ax.set_ylabel('Количество')\n",
    "plt.grid('all')\n",
    "\n",
    "# fig"
   ]
  },
  {
   "cell_type": "code",
   "execution_count": 25,
   "metadata": {
    "ExecuteTime": {
     "end_time": "2023-12-12T03:27:03.689870Z",
     "start_time": "2023-12-12T03:27:03.549063Z"
    },
    "scrolled": false
   },
   "outputs": [
    {
     "data": {
      "image/png": "[encoded data removed]",
      "text/plain": [
       "<Figure size 640x480 with 1 Axes>"
      ]
     },
     "metadata": {},
     "output_type": "display_data"
    }
   ],
   "source": [
    "# Построение графика boxplot\n",
    "st.subheader(\"Построим график boxplot\")\n",
    "\n",
    "hue_dict = {'None': None,\n",
    "            'GENDER' : 'Пол клиента',\n",
    "            'SOCSTATUS_WORK_FL' : 'Социальный статус клиента относительно работы',\n",
    "            'SOCSTATUS_PENS_FL' : 'Социальный статус клиента относительно пенсии',\n",
    "           }\n",
    "\n",
    "hue = st.selectbox(\n",
    "     'Выберите параметр \"hue\", по которому хотите посмотреть распределение',\n",
    "     (hue_dict.keys()))\n",
    "st.write(f'Вы выбрали: {hue} - {hue_dict[hue]}')\n",
    "\n",
    "if hue == 'None':\n",
    "    hue = None\n",
    "\n",
    "fig, ax = plt.subplots()#figsize=(10, 10))\n",
    "plt.title('График зависимости целевого признака от возраста')#, fontsize = 20)\n",
    "ax = sns.boxplot(x=\"TARGET\",\n",
    "                 y=\"AGE\",\n",
    "                 hue=hue,\n",
    "                 data=df,\n",
    "                 palette=\"coolwarm\",\n",
    "                 showmeans=True)\n",
    "plt.grid('all')\n",
    "\n",
    "# fig"
   ]
  },
  {
   "cell_type": "code",
   "execution_count": 26,
   "metadata": {
    "ExecuteTime": {
     "end_time": "2023-12-12T03:27:03.702738Z",
     "start_time": "2023-12-12T03:27:03.689870Z"
    }
   },
   "outputs": [
    {
     "data": {
      "text/plain": [
       "count    16000.0\n",
       "mean        40.4\n",
       "std         11.6\n",
       "min         21.0\n",
       "25%         30.0\n",
       "50%         39.0\n",
       "75%         50.0\n",
       "max         67.0\n",
       "Name: AGE, dtype: float64"
      ]
     },
     "execution_count": 26,
     "metadata": {},
     "output_type": "execute_result"
    }
   ],
   "source": [
    "st.write('Посмотрим основные числовые характеристики по возрасту')\n",
    "round(df['AGE'].describe(), 1)"
   ]
  },
  {
   "cell_type": "code",
   "execution_count": 27,
   "metadata": {
    "ExecuteTime": {
     "end_time": "2023-12-12T03:27:03.733106Z",
     "start_time": "2023-12-12T03:27:03.704822Z"
    }
   },
   "outputs": [],
   "source": [
    "st.write('''\n",
    "На графике видно не нормальное распределение с небольшим хвостом в сторону увеличения возраста, \n",
    "поэтому наблюдаем незначительное смещение среднего относительно медианы на боксплоте.\n",
    "\n",
    "Самый распространенный возраст от 30 до 50 лет\n",
    "''')"
   ]
  },
  {
   "cell_type": "code",
   "execution_count": null,
   "metadata": {},
   "outputs": [],
   "source": []
  },
  {
   "cell_type": "code",
   "execution_count": 28,
   "metadata": {
    "ExecuteTime": {
     "end_time": "2023-12-12T03:27:04.077250Z",
     "start_time": "2023-12-12T03:27:03.733106Z"
    }
   },
   "outputs": [
    {
     "data": {
      "image/png": "[encoded data removed]",
      "text/plain": [
       "<Figure size 640x480 with 1 Axes>"
      ]
     },
     "metadata": {},
     "output_type": "display_data"
    }
   ],
   "source": [
    "# Построим график распределения по личному доходу клиента\n",
    "st.subheader(\"График распределения по параметру Личный доход клиента\")\n",
    "\n",
    "\n",
    "fig, ax = plt.subplots()\n",
    "plt.title('График распределения по параметру\\n Личный доход клиента (в рублях)')\n",
    "ax.hist(df['PERSONAL_INCOME'], bins=200)\n",
    "\n",
    "ax.set_xlabel('Личный доход клиента (в рублях)')\n",
    "ax.set_ylabel('Количество')\n",
    "ax.set_xlim([0, 40000])\n",
    "plt.grid('all')\n",
    "\n",
    "# fig"
   ]
  },
  {
   "cell_type": "code",
   "execution_count": 29,
   "metadata": {
    "ExecuteTime": {
     "end_time": "2023-12-12T03:27:04.222691Z",
     "start_time": "2023-12-12T03:27:04.077250Z"
    }
   },
   "outputs": [
    {
     "data": {
      "image/png": "[encoded data removed]",
      "text/plain": [
       "<Figure size 640x480 with 1 Axes>"
      ]
     },
     "metadata": {},
     "output_type": "display_data"
    }
   ],
   "source": [
    "st.subheader(\"Построим график boxplot\")\n",
    "\n",
    "fig, ax = plt.subplots()#figsize=(10, 10))\n",
    "plt.title('График зависимости целевого признака от возраста')#, fontsize = 20)\n",
    "ax = sns.boxplot(x=\"TARGET\",\n",
    "                 y=\"PERSONAL_INCOME\",\n",
    "                 hue=hue,\n",
    "                 data=df,\n",
    "                 palette=\"coolwarm\",\n",
    "                 showmeans=True,\n",
    "                 showfliers=0,\n",
    "                )\n",
    "plt.grid('all')\n",
    "\n",
    "# fig"
   ]
  },
  {
   "cell_type": "code",
   "execution_count": 30,
   "metadata": {
    "ExecuteTime": {
     "end_time": "2023-12-12T03:27:04.233675Z",
     "start_time": "2023-12-12T03:27:04.222691Z"
    }
   },
   "outputs": [
    {
     "data": {
      "text/plain": [
       "count     15223.0\n",
       "mean      13853.8\n",
       "std        9015.5\n",
       "min          24.0\n",
       "25%        8000.0\n",
       "50%       12000.0\n",
       "75%       17000.0\n",
       "max      250000.0\n",
       "Name: PERSONAL_INCOME, dtype: float64"
      ]
     },
     "execution_count": 30,
     "metadata": {},
     "output_type": "execute_result"
    }
   ],
   "source": [
    "st.write('Посмотрим основные числовые характеристики по доходу')\n",
    "\n",
    "round(df['PERSONAL_INCOME'].describe(), 1)"
   ]
  },
  {
   "cell_type": "code",
   "execution_count": 31,
   "metadata": {
    "ExecuteTime": {
     "end_time": "2023-12-12T03:27:04.239276Z",
     "start_time": "2023-12-12T03:27:04.233675Z"
    }
   },
   "outputs": [],
   "source": [
    "st.write('''\n",
    "На Графике видно не нормальное распределение с довольно большим хвостом в сторону \n",
    "увеличения дохода (на графике он обрезан). В связи с этим видно значительное \n",
    "смещение среднего относительно медианы.\n",
    "Самый распространенный доход от 7000 до 20000 рублей.\n",
    "При этом есть привязки дохода к числам кратным 5000''')"
   ]
  },
  {
   "cell_type": "code",
   "execution_count": 32,
   "metadata": {
    "ExecuteTime": {
     "end_time": "2023-12-12T03:27:04.665754Z",
     "start_time": "2023-12-12T03:27:04.239276Z"
    }
   },
   "outputs": [
    {
     "data": {
      "text/plain": [
       "(0.0, 60000.0)"
      ]
     },
     "execution_count": 32,
     "metadata": {},
     "output_type": "execute_result"
    },
    {
     "data": {
      "image/png": "[encoded data removed]",
      "text/plain": [
       "<Figure size 640x480 with 2 Axes>"
      ]
     },
     "metadata": {},
     "output_type": "display_data"
    }
   ],
   "source": [
    "# Построим График зависимости личного дохода от возраста\n",
    "st.subheader(\"Построим график boxplot\")\n",
    "\n",
    "fig, ax = plt.subplots(2)#figsize=(10, 10))\n",
    "plt.suptitle('График зависимости личного дохода от возраста')#, fontsize = 20)\n",
    "\n",
    "for i in range(2):\n",
    "    ax[i].scatter(x=df[\"AGE\"], y=df[\"PERSONAL_INCOME\"])    \n",
    "    ax[i].set_ylabel('Личный доход клиента')\n",
    "    ax[i].grid('all')\n",
    "ax[1].set_xlabel('Возраст')\n",
    "ax[1].set_ylim([0, 60000])\n",
    "\n",
    "# fig"
   ]
  },
  {
   "cell_type": "markdown",
   "metadata": {},
   "source": [
    "### Построение матрицы корреляций признаков"
   ]
  },
  {
   "cell_type": "code",
   "execution_count": 33,
   "metadata": {
    "ExecuteTime": {
     "end_time": "2023-12-12T03:27:05.083790Z",
     "start_time": "2023-12-12T03:27:04.665754Z"
    }
   },
   "outputs": [
    {
     "data": {
      "image/png": "[encoded data removed]",
      "text/plain": [
       "<Figure size 640x480 with 2 Axes>"
      ]
     },
     "metadata": {},
     "output_type": "display_data"
    }
   ],
   "source": [
    "# Построение матрицы корреляций признаков\n",
    "st.header(\"2. Построим матрицу корреляций признаков\")\n",
    "\n",
    "crr = round(df_corr[columns].corr(), 2)\n",
    "\n",
    "fig, ax = plt.subplots()#figsize=(10, 10))\n",
    "plt.title('Матрица корреляции признаков')#, fontsize = 40)\n",
    "ax = sns.heatmap(crr,\n",
    "                 annot = True,\n",
    "                 cmap=\"YlGnBu\",\n",
    "                 linecolor='white',\n",
    "                 linewidths=1,\n",
    "                 annot_kws={\"fontsize\":10}\n",
    "            )\n",
    "# fig"
   ]
  },
  {
   "cell_type": "code",
   "execution_count": 34,
   "metadata": {
    "ExecuteTime": {
     "end_time": "2023-12-12T03:27:05.094219Z",
     "start_time": "2023-12-12T03:27:05.083790Z"
    }
   },
   "outputs": [
    {
     "data": {
      "text/plain": [
       "LOAN_NUM_TOTAL       0.86\n",
       "LOAN_NUM_CLOSED      0.86\n",
       "SOCSTATUS_WORK_FL    0.80\n",
       "SOCSTATUS_PENS_FL    0.80\n",
       "AGE                  0.56\n",
       "CHILD_TOTAL          0.51\n",
       "DEPENDANTS           0.51\n",
       "GENDER               0.24\n",
       "PERSONAL_INCOME      0.24\n",
       "TARGET               0.10\n",
       "dtype: float64"
      ]
     },
     "execution_count": 34,
     "metadata": {},
     "output_type": "execute_result"
    }
   ],
   "source": [
    "st.write('''Пары ярковыраженных зависимостей между признаками''')\n",
    "abs(crr[(crr < 1) & (crr > -1)]).max().sort_values(ascending=False)"
   ]
  },
  {
   "cell_type": "code",
   "execution_count": 35,
   "metadata": {
    "ExecuteTime": {
     "end_time": "2023-12-12T03:27:05.129237Z",
     "start_time": "2023-12-12T03:27:05.096272Z"
    }
   },
   "outputs": [],
   "source": [
    "st.write('''\n",
    "1. Наблюдается ярковыраженная зависимость между признаками LOAN_NUM_TOTAL и \n",
    "LOAN_NUM_CLOSED что довольно логично - количество выданных кредитов обычно \n",
    "коррелирует с количеством закрытых кредитов;\\n\n",
    "2. Наблюдается ярковыраженная обратная зависимость между признаками \n",
    "SOCSTATUS_WORK_FL и SOCSTATUS_PENS_FL. Это логично, ведь когда человек выходит\n",
    "на пенсию, он обычно перестает работать;\\n\n",
    "3. Есть выраженная зависимость количества детей и иждевенцев. Зачастую дети и \n",
    "являются иждевенцами. Но так как это не всегда тае, то поэтому зависимость не \n",
    "такая сильная;\\n\n",
    "4. Есть выраженная зависимость возраста и пенсионного статуса, и это тоже логично.\n",
    "''')"
   ]
  },
  {
   "cell_type": "code",
   "execution_count": null,
   "metadata": {},
   "outputs": [],
   "source": []
  }
 ],
 "metadata": {
  "colab": {
   "provenance": []
  },
  "kernelspec": {
   "display_name": "Python 3 (ipykernel)",
   "language": "python",
   "name": "python3"
  },
  "language_info": {
   "codemirror_mode": {
    "name": "ipython",
    "version": 3
   },
   "file_extension": ".py",
   "mimetype": "text/x-python",
   "name": "python",
   "nbconvert_exporter": "python",
   "pygments_lexer": "ipython3",
   "version": "3.11.3"
  },
  "toc": {
   "base_numbering": 1,
   "nav_menu": {},
   "number_sections": true,
   "sideBar": true,
   "skip_h1_title": false,
   "title_cell": "Table of Contents",
   "title_sidebar": "Contents",
   "toc_cell": false,
   "toc_position": {
    "height": "calc(100% - 180px)",
    "left": "10px",
    "top": "150px",
    "width": "278.357px"
   },
   "toc_section_display": true,
   "toc_window_display": true
  }
 },
 "nbformat": 4,
 "nbformat_minor": 1
}
